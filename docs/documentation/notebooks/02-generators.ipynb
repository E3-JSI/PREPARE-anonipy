{
 "cells": [
  {
   "cell_type": "markdown",
   "metadata": {},
   "source": [
    "# Generators"
   ]
  },
  {
   "cell_type": "markdown",
   "metadata": {},
   "source": [
    "This chapter showcases the generators in the `anonipy` package.\n",
    "\n",
    "The main motivation behind generators is to generate replacements for entities. \n",
    "In order to do this, `anonipy` has implemented a number of generators for generating:\n",
    "\n",
    "- strings\n",
    "- numbers\n",
    "- dates\n",
    "\n",
    "All of the generators are implemented in the `anonipy.anonymize.generators` module. \n",
    "In the following section, we will present each generator in detail."
   ]
  },
  {
   "cell_type": "code",
   "execution_count": 1,
   "metadata": {},
   "outputs": [],
   "source": [
    "# used to hide warnings\n",
    "import warnings\n",
    "\n",
    "warnings.filterwarnings(\"ignore\")"
   ]
  },
  {
   "cell_type": "markdown",
   "metadata": {},
   "source": [
    "Let us first define the text and the associated entities, as seen in the\n",
    "previous chapter (see [Extractors](/documentation/notebooks/01-extractors/))."
   ]
  },
  {
   "cell_type": "code",
   "execution_count": 2,
   "metadata": {},
   "outputs": [],
   "source": [
    "original_text = \"\"\"\\\n",
    "Medical Record\n",
    "\n",
    "Patient Name: John Doe\n",
    "Date of Birth: 15-01-1985\n",
    "Date of Examination: 20-05-2024\n",
    "Social Security Number: 123-45-6789\n",
    "\n",
    "Examination Procedure:\n",
    "John Doe underwent a routine physical examination. The procedure included measuring vital signs (blood pressure, heart rate, temperature), a comprehensive blood panel, and a cardiovascular stress test. The patient also reported occasional headaches and dizziness, prompting a neurological assessment and an MRI scan to rule out any underlying issues.\n",
    "\n",
    "Medication Prescribed:\n",
    "\n",
    "Ibuprofen 200 mg: Take one tablet every 6-8 hours as needed for headache and pain relief.\n",
    "Lisinopril 10 mg: Take one tablet daily to manage high blood pressure.\n",
    "Next Examination Date:\n",
    "15-11-2024\n",
    "\"\"\""
   ]
  },
  {
   "cell_type": "markdown",
   "metadata": {},
   "source": [
    "Normally, the entities are extracted using the the `EntityExtractor`. For this section,\n",
    "we manually define the entities:"
   ]
  },
  {
   "cell_type": "code",
   "execution_count": 3,
   "metadata": {},
   "outputs": [],
   "source": [
    "from anonipy.definitions import Entity\n",
    "\n",
    "entities = [\n",
    "    Entity(\n",
    "        text=\"John Doe\",\n",
    "        label=\"name\",\n",
    "        start_index=30,\n",
    "        end_index=38,\n",
    "        type=\"string\",\n",
    "        regex=\".*\",\n",
    "    ),\n",
    "    Entity(\n",
    "        text=\"15-01-1985\",\n",
    "        label=\"date of birth\",\n",
    "        start_index=54,\n",
    "        end_index=64,\n",
    "        type=\"date\",\n",
    "        regex=\"(\\\\d{1,2}[\\\\/\\\\-\\\\.]\\\\d{1,2}[\\\\/\\\\-\\\\.]\\\\d{2,4})|(\\\\d{2,4}[\\\\/\\\\-\\\\.]\\\\d{1,2}[\\\\/\\\\-\\\\.]\\\\d{1,2})\",\n",
    "    ),\n",
    "    Entity(\n",
    "        text=\"20-05-2024\",\n",
    "        label=\"date\",\n",
    "        start_index=86,\n",
    "        end_index=96,\n",
    "        type=\"date\",\n",
    "        regex=\"(\\\\d{1,2}[\\\\/\\\\-\\\\.]\\\\d{1,2}[\\\\/\\\\-\\\\.]\\\\d{2,4})|(\\\\d{2,4}[\\\\/\\\\-\\\\.]\\\\d{1,2}[\\\\/\\\\-\\\\.]\\\\d{1,2})\",\n",
    "    ),\n",
    "    Entity(\n",
    "        text=\"123-45-6789\",\n",
    "        label=\"social security number\",\n",
    "        start_index=121,\n",
    "        end_index=132,\n",
    "        type=\"custom\",\n",
    "        regex=\".*\",\n",
    "    ),\n",
    "    Entity(\n",
    "        text=\"John Doe\",\n",
    "        label=\"name\",\n",
    "        start_index=157,\n",
    "        end_index=165,\n",
    "        type=\"string\",\n",
    "        regex=\".*\",\n",
    "    ),\n",
    "    Entity(\n",
    "        text=\"15-11-2024\",\n",
    "        label=\"date\",\n",
    "        start_index=717,\n",
    "        end_index=727,\n",
    "        type=\"date\",\n",
    "        regex=\"(\\\\d{1,2}[\\\\/\\\\-\\\\.]\\\\d{1,2}[\\\\/\\\\-\\\\.]\\\\d{2,4})|(\\\\d{2,4}[\\\\/\\\\-\\\\.]\\\\d{1,2}[\\\\/\\\\-\\\\.]\\\\d{1,2})\",\n",
    "    ),\n",
    "]"
   ]
  },
  {
   "cell_type": "markdown",
   "metadata": {},
   "source": [
    "## LLMLabelGenerator"
   ]
  },
  {
   "cell_type": "markdown",
   "metadata": {},
   "source": [
    "<div class=\"admonition warning\">\n",
    "    <p class=\"admonition-title\">Warning</p>\n",
    "    <p style=\"margin-top: .6rem; margin-bottom: .6rem\">\n",
    "        The <code>LLMLabelGenerator</code> utilizes the open source LLMs, \n",
    "        specifically the <a href=\"https://huggingface.co/meta-llama/Meta-Llama-3-8B-Instruct\" target=\"_blank\">Llama 3</a> model.\n",
    "        Because the model is quite large, we utilize quantization using the <code>bitsandbytes</code> package to reduce its size.\n",
    "        Therefore, the <code>LLMLabelGenerator</code> requires at least 8GB GPU and CUDA drivers to be available.\n",
    "        If these resources are not available on your machine, you can use the <code>MaskLabelGenerator</code> instead.\n",
    "    </p>\n",
    "</div>\n",
    "\n",
    "The `LLMLabelGenerator` is a one-stop-shop generator that utilizes LLMs to generate replacements for entities. It is implemented to support any entity type.\n",
    "\n",
    "For more details, please check the `LLMLabelGenerator` class implementation."
   ]
  },
  {
   "cell_type": "markdown",
   "metadata": {},
   "source": [
    "Let us first import the generator and initialize it.\n",
    "\n",
    "<div class=\"admonition info\">\n",
    "    <p class=\"admonition-title\">Info</p>\n",
    "    <p style=\"margin-top: .6rem; margin-bottom: .6rem\">\n",
    "        The initialization of <code>LLMLabelGenerator</code> will throw some warnings. Ignore them.\n",
    "        These are expected due to the use of package dependencies.\n",
    "    </p>\n",
    "</div>"
   ]
  },
  {
   "cell_type": "code",
   "execution_count": 4,
   "metadata": {},
   "outputs": [
    {
     "data": {
      "application/vnd.jupyter.widget-view+json": {
       "model_id": "6aca0d79909b4da3beedf11f4fd78777",
       "version_major": 2,
       "version_minor": 0
      },
      "text/plain": [
       "Loading checkpoint shards:   0%|          | 0/4 [00:00<?, ?it/s]"
      ]
     },
     "metadata": {},
     "output_type": "display_data"
    },
    {
     "name": "stderr",
     "output_type": "stream",
     "text": [
      "Special tokens have been added in the vocabulary, make sure the associated word embeddings are fine-tuned or trained.\n"
     ]
    }
   ],
   "source": [
    "from anonipy.anonymize.generators import LLMLabelGenerator\n",
    "\n",
    "llm_generator = LLMLabelGenerator()"
   ]
  },
  {
   "cell_type": "markdown",
   "metadata": {},
   "source": [
    "To use the generator, we can call the `generate` method. The `generate` method receives the following parameters:\n",
    "\n",
    "- `entity`: The entity to generate a replacement for.\n",
    "- `entity_prefix`: The prefix to use for the replacement (Default: \"\").\n",
    "- `temperature`: The temperature to use when generating the replacement. This value should be between 0 and 1, where 0 is the least random and 1 is the most random generation (Default: 0)."
   ]
  },
  {
   "cell_type": "markdown",
   "metadata": {},
   "source": [
    "Let us generate the replacement for the first entity using the default parameters."
   ]
  },
  {
   "cell_type": "code",
   "execution_count": 5,
   "metadata": {},
   "outputs": [
    {
     "data": {
      "text/plain": [
       "'Ethan Thompson'"
      ]
     },
     "execution_count": 5,
     "metadata": {},
     "output_type": "execute_result"
    }
   ],
   "source": [
    "llm_generator.generate(entities[0])"
   ]
  },
  {
   "cell_type": "markdown",
   "metadata": {},
   "source": [
    "Let us now change the label prefix and generate the replacement using a higher temperature."
   ]
  },
  {
   "cell_type": "code",
   "execution_count": 6,
   "metadata": {},
   "outputs": [
    {
     "data": {
      "text/plain": [
       "'Juan Martines'"
      ]
     },
     "execution_count": 6,
     "metadata": {},
     "output_type": "execute_result"
    }
   ],
   "source": [
    "llm_generator.generate(entities[0], entity_prefix=\"Spanish\", temperature=0.7)"
   ]
  },
  {
   "cell_type": "markdown",
   "metadata": {},
   "source": [
    "Let us now generate a replacement for each entity using the default parameters."
   ]
  },
  {
   "cell_type": "code",
   "execution_count": 7,
   "metadata": {},
   "outputs": [
    {
     "name": "stdout",
     "output_type": "stream",
     "text": [
      "John Doe     | name                   | Ethan Thompson\n",
      "15-01-1985   | date of birth          | 24-07-1992\n",
      "20-05-2024   | date                   | 23-07-2027\n",
      "123-45-6789  | social security number | 987-65-4321\n",
      "John Doe     | name                   | Ethan Thompson\n",
      "15-11-2024   | date                   | 23-02-2027\n"
     ]
    }
   ],
   "source": [
    "for entity in entities:\n",
    "    print(f\"{entity.text:<12} | {entity.label:<22} | {llm_generator.generate(entity)}\")"
   ]
  },
  {
   "cell_type": "markdown",
   "metadata": {},
   "source": [
    "### Advices and suggestions"
   ]
  },
  {
   "cell_type": "markdown",
   "metadata": {},
   "source": [
    "**Using LLMLabelGenerator only for string and custom types.**\n",
    "While the `LLMLabelGenerator` is able to generate alternatives for different entity \n",
    "types, we suggest using it only for string and custom entity types. The reason is \n",
    "that the LLMs can be quite slow for generating replacements. \n",
    "\n",
    "In addition, `anonipy` has other generators that can be used for other entity types, such as dates, numbers, etc."
   ]
  },
  {
   "cell_type": "markdown",
   "metadata": {},
   "source": [
    "**Restricting with regex.**\n",
    "Using LLMs to generate text is best when the generation is restricted to a specific pattern.\n",
    "The `Entity` object already contains a `regex` field that can be used to restrict the generation \n",
    "to a specific pattern. However, it is recommended to specify to have as specific and restrictive\n",
    "regex expressions as possible.\n",
    "\n",
    "This will help the `LLMLabelGenerator` to generate more accurate replacements."
   ]
  },
  {
   "cell_type": "markdown",
   "metadata": {},
   "source": [
    "## MaskLabelGenerator"
   ]
  },
  {
   "cell_type": "markdown",
   "metadata": {},
   "source": [
    "The `MaskLabelGenerator` is a generator that uses smaller language models, such as <a href=\"https://huggingface.co/FacebookAI/xlm-roberta-large\" target=\"_blank\">XLM-RoBERTa</a>, to generate replacements for entities. It is implemented to support any entity type, but we suggest using it \n",
    "with string entities. For other entity types, please use other generators.\n",
    "\n",
    "For more details, please check the `MaskLabelGenerator` class implementation."
   ]
  },
  {
   "cell_type": "markdown",
   "metadata": {},
   "source": [
    "Let us first import the generator and initialize it. The generator at initialization \n",
    "can receive the following parameters:\n",
    "\n",
    "- `model_name`: The model to use for the generation (Default: \"FacebookAI/xlm-roberta-large\").\n",
    "- `use_gpu`: Whether to use the GPU for the generation (Default: False).\n",
    "- `context_window`: The size of the context window to both sides of the entity to use for the generation.\n",
    "    If the context window is set to 100, the context will be the 100 characters before and after the entity (Default: 100).\n",
    "\n",
    "<div class=\"admonition info\">\n",
    "    <p class=\"admonition-title\">Info</p>\n",
    "    <p style=\"margin-top: .6rem; margin-bottom: .6rem\">\n",
    "        The initialization of <code>MaskLabelGenerator</code> will throw some warnings. Ignore them.\n",
    "        These are expected due to the use of package dependencies.\n",
    "    </p>\n",
    "</div>"
   ]
  },
  {
   "cell_type": "code",
   "execution_count": 8,
   "metadata": {},
   "outputs": [
    {
     "name": "stderr",
     "output_type": "stream",
     "text": [
      "Some weights of the model checkpoint at FacebookAI/xlm-roberta-large were not used when initializing XLMRobertaForMaskedLM: ['roberta.pooler.dense.bias', 'roberta.pooler.dense.weight']\n",
      "- This IS expected if you are initializing XLMRobertaForMaskedLM from the checkpoint of a model trained on another task or with another architecture (e.g. initializing a BertForSequenceClassification model from a BertForPreTraining model).\n",
      "- This IS NOT expected if you are initializing XLMRobertaForMaskedLM from the checkpoint of a model that you expect to be exactly identical (initializing a BertForSequenceClassification model from a BertForSequenceClassification model).\n"
     ]
    }
   ],
   "source": [
    "from anonipy.anonymize.generators import MaskLabelGenerator\n",
    "\n",
    "# initialization using default parameters\n",
    "mask_generator = MaskLabelGenerator()"
   ]
  },
  {
   "cell_type": "markdown",
   "metadata": {},
   "source": [
    "To use the generator, we can call the `generate` method. The `generate` method receives the following parameters:\n",
    "\n",
    "- `entity`: The entity to generate a replacement for.\n",
    "- `original_text`: The original text from which the generator will retrieve the context of the entity text."
   ]
  },
  {
   "cell_type": "markdown",
   "metadata": {},
   "source": [
    "This generator will create a list of suggestions from which it will select one at random. Therefore, the generator will return different suggestions every time it is called."
   ]
  },
  {
   "cell_type": "code",
   "execution_count": 9,
   "metadata": {},
   "outputs": [
    {
     "data": {
      "text/plain": [
       "'James Thomas'"
      ]
     },
     "execution_count": 9,
     "metadata": {},
     "output_type": "execute_result"
    }
   ],
   "source": [
    "mask_generator.generate(entities[0], text=original_text)"
   ]
  },
  {
   "cell_type": "code",
   "execution_count": 10,
   "metadata": {},
   "outputs": [
    {
     "data": {
      "text/plain": [
       "'Smith Paul'"
      ]
     },
     "execution_count": 10,
     "metadata": {},
     "output_type": "execute_result"
    }
   ],
   "source": [
    "mask_generator.generate(entities[0], text=original_text)"
   ]
  },
  {
   "cell_type": "code",
   "execution_count": 11,
   "metadata": {},
   "outputs": [
    {
     "data": {
      "text/plain": [
       "'Michael Thomas'"
      ]
     },
     "execution_count": 11,
     "metadata": {},
     "output_type": "execute_result"
    }
   ],
   "source": [
    "mask_generator.generate(entities[0], text=original_text)"
   ]
  },
  {
   "cell_type": "code",
   "execution_count": 12,
   "metadata": {},
   "outputs": [
    {
     "name": "stdout",
     "output_type": "stream",
     "text": [
      "John Doe     | name                   | Richard Roberts\n",
      "15-01-1985   | date of birth          | 1964\n",
      "20-05-2024   | date                   | 2017\n",
      "123-45-6789  | social security number | 1\n",
      "John Doe     | name                   | Van first\n",
      "15-11-2024   | date                   | None\n"
     ]
    }
   ],
   "source": [
    "for entity in entities:\n",
    "    print(\n",
    "        f\"{entity.text:<12} | {entity.label:<22} | {mask_generator.generate(entity, text=original_text)}\"\n",
    "    )"
   ]
  },
  {
   "cell_type": "markdown",
   "metadata": {},
   "source": [
    "### Advices and suggestions"
   ]
  },
  {
   "cell_type": "markdown",
   "metadata": {},
   "source": [
    "**Using only for string entities.**\n",
    "As seen from the above examples, the `MaskLabelGenerator` is best used with string entities.\n",
    "For number and date entities, it is best to use other generators, such as `NumberGenerator` \n",
    "and `DateGenerator`."
   ]
  },
  {
   "cell_type": "markdown",
   "metadata": {},
   "source": [
    "## NumberGenerator"
   ]
  },
  {
   "cell_type": "markdown",
   "metadata": {},
   "source": [
    "The `NumberGenerator` is a generator for generating random numbers. It is implemented to support integers, floats, and \n",
    "phone numbers, but it can be used to generate values for custom types which include numbers.\n",
    "\n",
    "For more details, please check the `NumberGenerator` class implementation."
   ]
  },
  {
   "cell_type": "markdown",
   "metadata": {},
   "source": [
    "Let us first import the generator and initialize it. The generator at initialization \n",
    "does not need any parameters."
   ]
  },
  {
   "cell_type": "code",
   "execution_count": 13,
   "metadata": {},
   "outputs": [],
   "source": [
    "from anonipy.anonymize.generators import NumberGenerator\n",
    "\n",
    "number_generator = NumberGenerator()"
   ]
  },
  {
   "cell_type": "markdown",
   "metadata": {},
   "source": [
    "To use the generator, we can call the `generate` method. The `generate` method receives the following parameters:\n",
    "\n",
    "- `entity`: The number entity to generate a replacement for."
   ]
  },
  {
   "cell_type": "markdown",
   "metadata": {},
   "source": [
    "This generator will create a suggestion by replacing numeric values in the entity text at random. Therefore, the generator will return different suggestions every time it is called."
   ]
  },
  {
   "cell_type": "code",
   "execution_count": 14,
   "metadata": {},
   "outputs": [
    {
     "data": {
      "text/plain": [
       "'491-93-2792'"
      ]
     },
     "execution_count": 14,
     "metadata": {},
     "output_type": "execute_result"
    }
   ],
   "source": [
    "number_generator.generate(entities[3])"
   ]
  },
  {
   "cell_type": "markdown",
   "metadata": {},
   "source": [
    "Furthermore, it will throw an error if the entity type is not `integer`, `float`, `phone_number` or `custom`."
   ]
  },
  {
   "cell_type": "code",
   "execution_count": 15,
   "metadata": {},
   "outputs": [
    {
     "name": "stdout",
     "output_type": "stream",
     "text": [
      "The entity type must be `integer`, `float`, `phone_number` or `custom` to generate numbers.\n"
     ]
    }
   ],
   "source": [
    "try:\n",
    "    number_generator.generate(entities[0])\n",
    "except Exception as e:\n",
    "    print(e)"
   ]
  },
  {
   "cell_type": "markdown",
   "metadata": {},
   "source": [
    "## DateGenerator"
   ]
  },
  {
   "cell_type": "markdown",
   "metadata": {},
   "source": [
    "The `DateGenerator` is a generator for generating dates. It is implemented to support date entities.\n",
    "\n",
    "For more details, please check the `DateGenerator` class implementation."
   ]
  },
  {
   "cell_type": "markdown",
   "metadata": {},
   "source": [
    "Let us first import the generator and initialize it. The generator at initialization \n",
    "can receive the following parameters:\n",
    "\n",
    "- `date_format`: The format in which the dates will be provided and generated (Default: \"%d-%m-%Y\").\n",
    "- `day_sigma`: The number of days to add or subtract from the date when using the `random` generator method (see below) (Default: 30)."
   ]
  },
  {
   "cell_type": "code",
   "execution_count": 16,
   "metadata": {},
   "outputs": [],
   "source": [
    "from anonipy.anonymize.generators import DateGenerator\n",
    "\n",
    "date_generator = DateGenerator()"
   ]
  },
  {
   "cell_type": "markdown",
   "metadata": {},
   "source": [
    "To use the generator, we can call the `generate` method. The `generate` method receives the following parameters:\n",
    "\n",
    "- `entity`: The number entity to generate a replacement for.\n",
    "- `output_gen`: the method used to generate the date (Default: \"random\"). It can be one of:\n",
    "  - `random`: generates a random date that is between `entity` and `entity` $\\pm$ `day_sigma` days.\n",
    "  - `first_day_of_the_month`: returns the first day of the month of `entity`.\n",
    "  - `last_day_of_the_month`: returns the last day of the month of `entity`.\n",
    "  - `middle_of_the_month`: returns the middle day of the month of `entity`.\n",
    "  - `middle_of_the_year`: returns the middle day of the year of `entity`."
   ]
  },
  {
   "cell_type": "markdown",
   "metadata": {},
   "source": [
    "Using the above parameters, this generator will create the appropriate date suggestions:"
   ]
  },
  {
   "cell_type": "code",
   "execution_count": 17,
   "metadata": {},
   "outputs": [
    {
     "data": {
      "text/plain": [
       "'20-05-2024'"
      ]
     },
     "execution_count": 17,
     "metadata": {},
     "output_type": "execute_result"
    }
   ],
   "source": [
    "entities[2].text"
   ]
  },
  {
   "cell_type": "code",
   "execution_count": 18,
   "metadata": {},
   "outputs": [
    {
     "data": {
      "text/plain": [
       "'10-05-2024'"
      ]
     },
     "execution_count": 18,
     "metadata": {},
     "output_type": "execute_result"
    }
   ],
   "source": [
    "date_generator.generate(entities[2], output_gen=\"random\")"
   ]
  },
  {
   "cell_type": "code",
   "execution_count": 19,
   "metadata": {},
   "outputs": [
    {
     "data": {
      "text/plain": [
       "'01-05-2024'"
      ]
     },
     "execution_count": 19,
     "metadata": {},
     "output_type": "execute_result"
    }
   ],
   "source": [
    "date_generator.generate(entities[2], output_gen=\"first_day_of_the_month\")"
   ]
  },
  {
   "cell_type": "code",
   "execution_count": 20,
   "metadata": {},
   "outputs": [
    {
     "data": {
      "text/plain": [
       "'31-05-2024'"
      ]
     },
     "execution_count": 20,
     "metadata": {},
     "output_type": "execute_result"
    }
   ],
   "source": [
    "date_generator.generate(entities[2], output_gen=\"last_day_of_the_month\")"
   ]
  },
  {
   "cell_type": "code",
   "execution_count": 21,
   "metadata": {},
   "outputs": [
    {
     "data": {
      "text/plain": [
       "'15-05-2024'"
      ]
     },
     "execution_count": 21,
     "metadata": {},
     "output_type": "execute_result"
    }
   ],
   "source": [
    "date_generator.generate(entities[2], output_gen=\"middle_of_the_month\")"
   ]
  },
  {
   "cell_type": "code",
   "execution_count": 22,
   "metadata": {},
   "outputs": [
    {
     "data": {
      "text/plain": [
       "'01-07-2024'"
      ]
     },
     "execution_count": 22,
     "metadata": {},
     "output_type": "execute_result"
    }
   ],
   "source": [
    "date_generator.generate(entities[2], output_gen=\"middle_of_the_year\")"
   ]
  },
  {
   "cell_type": "markdown",
   "metadata": {},
   "source": [
    "Furthermore, it will throw an error if the entity type is not `date`."
   ]
  },
  {
   "cell_type": "code",
   "execution_count": 23,
   "metadata": {},
   "outputs": [
    {
     "name": "stdout",
     "output_type": "stream",
     "text": [
      "The entity type must be `date` to generate dates.\n"
     ]
    }
   ],
   "source": [
    "try:\n",
    "    date_generator.generate(entities[0])\n",
    "except Exception as e:\n",
    "    print(e)"
   ]
  },
  {
   "cell_type": "markdown",
   "metadata": {},
   "source": [
    "## Creating custom generator"
   ]
  },
  {
   "cell_type": "markdown",
   "metadata": {},
   "source": [
    "The user can develop their own custom generators. To do this, the custom generator\n",
    "must inherit from the `GeneratorInterface` class. \n",
    "\n",
    "The generator must have two methods defined: `__init__` and `generate`,\n",
    "where the `generate` method must accept at least the entity.\n",
    "\n",
    "An example of a custom generator that will generate only emojis is shown below:"
   ]
  },
  {
   "cell_type": "code",
   "execution_count": 24,
   "metadata": {},
   "outputs": [],
   "source": [
    "import random\n",
    "from anonipy.anonymize.generators import GeneratorInterface\n",
    "from anonipy.definitions import Entity\n",
    "\n",
    "\n",
    "class CustomGenerator(GeneratorInterface):\n",
    "\n",
    "    def __init__(self):\n",
    "        self.emojis = [\"😄\", \"🤗\", \"😢\"]\n",
    "\n",
    "    def generate(self, entity: Entity) -> tuple[str, list[Entity]]:\n",
    "        return random.choice(self.emojis)"
   ]
  },
  {
   "cell_type": "code",
   "execution_count": 25,
   "metadata": {},
   "outputs": [
    {
     "data": {
      "text/plain": [
       "'🤗'"
      ]
     },
     "execution_count": 25,
     "metadata": {},
     "output_type": "execute_result"
    }
   ],
   "source": [
    "custom_generator = CustomGenerator()\n",
    "custom_generator.generate(entities[0])"
   ]
  }
 ],
 "metadata": {
  "kernelspec": {
   "display_name": "venv",
   "language": "python",
   "name": "python3"
  },
  "language_info": {
   "codemirror_mode": {
    "name": "ipython",
    "version": 3
   },
   "file_extension": ".py",
   "mimetype": "text/x-python",
   "name": "python",
   "nbconvert_exporter": "python",
   "pygments_lexer": "ipython3",
   "version": "3.10.12"
  }
 },
 "nbformat": 4,
 "nbformat_minor": 2
}
