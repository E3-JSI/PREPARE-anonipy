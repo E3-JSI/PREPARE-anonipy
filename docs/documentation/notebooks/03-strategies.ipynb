{
 "cells": [
  {
   "cell_type": "markdown",
   "metadata": {},
   "source": [
    "# Strategies"
   ]
  },
  {
   "cell_type": "markdown",
   "metadata": {},
   "source": [
    "This chapter showcases how to use the anonymization strategies in the package.\n",
    "\n",
    "The main motivation behind the anonymization strategies is to streamline the process of data anonymization. The `anonipy` package implements strategies, which can be found in the `anonipy.anonymize.strategies` module.\n",
    "\n",
    "Furthermore, each strategy has an associated `anonymize` method, which returns the anonymized text and the list of anonymized entities showing which part of the text was anonymized and with which replacement."
   ]
  },
  {
   "cell_type": "code",
   "execution_count": 1,
   "metadata": {},
   "outputs": [],
   "source": [
    "# used to hide warnings\n",
    "import warnings\n",
    "\n",
    "warnings.filterwarnings(\"ignore\")"
   ]
  },
  {
   "cell_type": "markdown",
   "metadata": {},
   "source": [
    "Let us first define the text and the associated entities, as seen in the\n",
    "previous chapter (see [Extractors](/documentation/notebooks/01-extractors/))."
   ]
  },
  {
   "cell_type": "code",
   "execution_count": 2,
   "metadata": {},
   "outputs": [],
   "source": [
    "original_text = \"\"\"\\\n",
    "Medical Record\n",
    "\n",
    "Patient Name: John Doe\n",
    "Date of Birth: 15-01-1985\n",
    "Date of Examination: 20-05-2024\n",
    "Social Security Number: 123-45-6789\n",
    "\n",
    "Examination Procedure:\n",
    "John Doe underwent a routine physical examination. The procedure included measuring vital signs (blood pressure, heart rate, temperature), a comprehensive blood panel, and a cardiovascular stress test. The patient also reported occasional headaches and dizziness, prompting a neurological assessment and an MRI scan to rule out any underlying issues.\n",
    "\n",
    "Medication Prescribed:\n",
    "\n",
    "Ibuprofen 200 mg: Take one tablet every 6-8 hours as needed for headache and pain relief.\n",
    "Lisinopril 10 mg: Take one tablet daily to manage high blood pressure.\n",
    "Next Examination Date:\n",
    "15-11-2024\n",
    "\"\"\""
   ]
  },
  {
   "cell_type": "markdown",
   "metadata": {},
   "source": [
    "Normally, the entities are extracted using the the `EntityExtractor`. For this section,\n",
    "we manually define the entities:"
   ]
  },
  {
   "cell_type": "code",
   "execution_count": 3,
   "metadata": {},
   "outputs": [],
   "source": [
    "from anonipy.definitions import Entity\n",
    "\n",
    "entities = [\n",
    "    Entity(\n",
    "        text=\"John Doe\",\n",
    "        label=\"name\",\n",
    "        start_index=30,\n",
    "        end_index=38,\n",
    "        score=1.0,\n",
    "        type=\"string\",\n",
    "        regex=\".*\",\n",
    "    ),\n",
    "    Entity(\n",
    "        text=\"15-01-1985\",\n",
    "        label=\"date of birth\",\n",
    "        start_index=54,\n",
    "        end_index=64,\n",
    "        score=1.0,\n",
    "        type=\"date\",\n",
    "        regex=\"(\\\\d{1,2}[\\\\/\\\\-\\\\.]\\\\d{1,2}[\\\\/\\\\-\\\\.]\\\\d{2,4})|(\\\\d{2,4}[\\\\/\\\\-\\\\.]\\\\d{1,2}[\\\\/\\\\-\\\\.]\\\\d{1,2})\",\n",
    "    ),\n",
    "    Entity(\n",
    "        text=\"20-05-2024\",\n",
    "        label=\"date\",\n",
    "        start_index=86,\n",
    "        end_index=96,\n",
    "        score=1.0,\n",
    "        type=\"date\",\n",
    "        regex=\"(\\\\d{1,2}[\\\\/\\\\-\\\\.]\\\\d{1,2}[\\\\/\\\\-\\\\.]\\\\d{2,4})|(\\\\d{2,4}[\\\\/\\\\-\\\\.]\\\\d{1,2}[\\\\/\\\\-\\\\.]\\\\d{1,2})\",\n",
    "    ),\n",
    "    Entity(\n",
    "        text=\"123-45-6789\",\n",
    "        label=\"social security number\",\n",
    "        start_index=121,\n",
    "        end_index=132,\n",
    "        score=1.0,\n",
    "        type=\"custom\",\n",
    "        regex=\"[0-9]{3}-[0-9]{2}-[0-9]{4}\",\n",
    "    ),\n",
    "    Entity(\n",
    "        text=\"John Doe\",\n",
    "        label=\"name\",\n",
    "        start_index=157,\n",
    "        end_index=165,\n",
    "        score=1.0,\n",
    "        type=\"string\",\n",
    "        regex=\".*\",\n",
    "    ),\n",
    "    Entity(\n",
    "        text=\"15-11-2024\",\n",
    "        label=\"date\",\n",
    "        start_index=717,\n",
    "        end_index=727,\n",
    "        score=1.0,\n",
    "        type=\"date\",\n",
    "        regex=\"(\\\\d{1,2}[\\\\/\\\\-\\\\.]\\\\d{1,2}[\\\\/\\\\-\\\\.]\\\\d{2,4})|(\\\\d{2,4}[\\\\/\\\\-\\\\.]\\\\d{1,2}[\\\\/\\\\-\\\\.]\\\\d{1,2})\",\n",
    "    ),\n",
    "]"
   ]
  },
  {
   "cell_type": "markdown",
   "metadata": {},
   "source": [
    "## RedactionStrategy"
   ]
  },
  {
   "cell_type": "markdown",
   "metadata": {},
   "source": [
    "Data redaction is the process of obscuring information that’s personally identifiable, confidential, classified or sensitive.\n",
    "\n",
    "The `RedactionStrategy` anonymizes the original text by replacing the entities in the text with a predefined substitute label, which defaults to `[REDACTED]`.\n",
    "\n",
    "<div class=\"admonition info\">\n",
    "    <p class=\"admonition-title\">Info</p>\n",
    "    <p style=\"margin-top: .6rem; margin-bottom: .6rem\">\n",
    "        The redaction strategy hides sensitive information by replacing the original entities with a string that does not\n",
    "        reveal any information about the original. While this is useful for obscuring information, it does change the\n",
    "        text's distribution, which can effect the training of machine learning models.\n",
    "    </p>\n",
    "</div>"
   ]
  },
  {
   "cell_type": "code",
   "execution_count": 4,
   "metadata": {},
   "outputs": [],
   "source": [
    "from anonipy.anonymize.strategies import RedactionStrategy"
   ]
  },
  {
   "cell_type": "code",
   "execution_count": 5,
   "metadata": {},
   "outputs": [],
   "source": [
    "redaction_strategy = RedactionStrategy(substitute_label=\"[REDACTED]\")"
   ]
  },
  {
   "cell_type": "markdown",
   "metadata": {},
   "source": [
    "Using the strategy, we can anonymize the text:"
   ]
  },
  {
   "cell_type": "code",
   "execution_count": 6,
   "metadata": {},
   "outputs": [],
   "source": [
    "anonymized_text, replacements = redaction_strategy.anonymize(original_text, entities)"
   ]
  },
  {
   "cell_type": "markdown",
   "metadata": {},
   "source": [
    "The anonymized text is:"
   ]
  },
  {
   "cell_type": "code",
   "execution_count": 7,
   "metadata": {},
   "outputs": [
    {
     "name": "stdout",
     "output_type": "stream",
     "text": [
      "Medical Record\n",
      "\n",
      "Patient Name: [REDACTED]\n",
      "Date of Birth: [REDACTED]\n",
      "Date of Examination: [REDACTED]\n",
      "Social Security Number: [REDACTED]\n",
      "\n",
      "Examination Procedure:\n",
      "[REDACTED] underwent a routine physical examination. The procedure included measuring vital signs (blood pressure, heart rate, temperature), a comprehensive blood panel, and a cardiovascular stress test. The patient also reported occasional headaches and dizziness, prompting a neurological assessment and an MRI scan to rule out any underlying issues.\n",
      "\n",
      "Medication Prescribed:\n",
      "\n",
      "Ibuprofen 200 mg: Take one tablet every 6-8 hours as needed for headache and pain relief.\n",
      "Lisinopril 10 mg: Take one tablet daily to manage high blood pressure.\n",
      "Next Examination Date:\n",
      "[REDACTED]\n",
      "\n"
     ]
    }
   ],
   "source": [
    "print(anonymized_text)"
   ]
  },
  {
   "cell_type": "markdown",
   "metadata": {},
   "source": [
    "And the associated replacements are:"
   ]
  },
  {
   "cell_type": "code",
   "execution_count": 8,
   "metadata": {},
   "outputs": [
    {
     "data": {
      "text/plain": [
       "[{'original_text': 'John Doe',\n",
       "  'label': 'name',\n",
       "  'start_index': 30,\n",
       "  'end_index': 38,\n",
       "  'anonymized_text': '[REDACTED]'},\n",
       " {'original_text': '15-01-1985',\n",
       "  'label': 'date of birth',\n",
       "  'start_index': 54,\n",
       "  'end_index': 64,\n",
       "  'anonymized_text': '[REDACTED]'},\n",
       " {'original_text': '20-05-2024',\n",
       "  'label': 'date',\n",
       "  'start_index': 86,\n",
       "  'end_index': 96,\n",
       "  'anonymized_text': '[REDACTED]'},\n",
       " {'original_text': '123-45-6789',\n",
       "  'label': 'social security number',\n",
       "  'start_index': 121,\n",
       "  'end_index': 132,\n",
       "  'anonymized_text': '[REDACTED]'},\n",
       " {'original_text': 'John Doe',\n",
       "  'label': 'name',\n",
       "  'start_index': 157,\n",
       "  'end_index': 165,\n",
       "  'anonymized_text': '[REDACTED]'},\n",
       " {'original_text': '15-11-2024',\n",
       "  'label': 'date',\n",
       "  'start_index': 717,\n",
       "  'end_index': 727,\n",
       "  'anonymized_text': '[REDACTED]'}]"
      ]
     },
     "execution_count": 8,
     "metadata": {},
     "output_type": "execute_result"
    }
   ],
   "source": [
    "replacements"
   ]
  },
  {
   "cell_type": "markdown",
   "metadata": {},
   "source": [
    "## MaskingStrategy"
   ]
  },
  {
   "cell_type": "markdown",
   "metadata": {},
   "source": [
    "Data masking refers to the disclosure of data with modified values. Data anonymization is done by creating a mirror image of a database and implementing alteration strategies, such as character shuffling, encryption, term, or character substitution. For example, a value character may be replaced by a symbol such as “*” or “x.” It makes identification or reverse engineering difficult.\n",
    "\n",
    "The `MaskingStrategy` anonymizes the original text by replacing the entities with masks, which are created using the subsitute label, which defaults to `*`.\n",
    "\n",
    "<div class=\"admonition info\">\n",
    "    <p class=\"admonition-title\">Info</p>\n",
    "    <p style=\"margin-top: .6rem; margin-bottom: .6rem\">\n",
    "        The masking strategy is useful as it hides the original sensitive values and retains the original text's length.\n",
    "        However, it also changes the original text's meaning and distribution, as the replacement values are not the \n",
    "        same as the original values.\n",
    "    </p>\n",
    "</div>"
   ]
  },
  {
   "cell_type": "code",
   "execution_count": 9,
   "metadata": {},
   "outputs": [],
   "source": [
    "from anonipy.anonymize.strategies import MaskingStrategy"
   ]
  },
  {
   "cell_type": "code",
   "execution_count": 10,
   "metadata": {},
   "outputs": [],
   "source": [
    "masking_strategy = MaskingStrategy(substitute_label=\"*\")"
   ]
  },
  {
   "cell_type": "markdown",
   "metadata": {},
   "source": [
    "Using the strategy, we can anonymize the text:"
   ]
  },
  {
   "cell_type": "code",
   "execution_count": 11,
   "metadata": {},
   "outputs": [],
   "source": [
    "anonymized_text, replacements = masking_strategy.anonymize(original_text, entities)"
   ]
  },
  {
   "cell_type": "markdown",
   "metadata": {},
   "source": [
    "The anonymized text is:"
   ]
  },
  {
   "cell_type": "code",
   "execution_count": 12,
   "metadata": {},
   "outputs": [
    {
     "name": "stdout",
     "output_type": "stream",
     "text": [
      "Medical Record\n",
      "\n",
      "Patient Name: **** ***\n",
      "Date of Birth: **********\n",
      "Date of Examination: **********\n",
      "Social Security Number: ***********\n",
      "\n",
      "Examination Procedure:\n",
      "**** *** underwent a routine physical examination. The procedure included measuring vital signs (blood pressure, heart rate, temperature), a comprehensive blood panel, and a cardiovascular stress test. The patient also reported occasional headaches and dizziness, prompting a neurological assessment and an MRI scan to rule out any underlying issues.\n",
      "\n",
      "Medication Prescribed:\n",
      "\n",
      "Ibuprofen 200 mg: Take one tablet every 6-8 hours as needed for headache and pain relief.\n",
      "Lisinopril 10 mg: Take one tablet daily to manage high blood pressure.\n",
      "Next Examination Date:\n",
      "**********\n",
      "\n"
     ]
    }
   ],
   "source": [
    "print(anonymized_text)"
   ]
  },
  {
   "cell_type": "markdown",
   "metadata": {},
   "source": [
    "And the associated replacements are:"
   ]
  },
  {
   "cell_type": "code",
   "execution_count": 13,
   "metadata": {},
   "outputs": [
    {
     "data": {
      "text/plain": [
       "[{'original_text': 'John Doe',\n",
       "  'label': 'name',\n",
       "  'start_index': 30,\n",
       "  'end_index': 38,\n",
       "  'anonymized_text': '**** ***'},\n",
       " {'original_text': '15-01-1985',\n",
       "  'label': 'date of birth',\n",
       "  'start_index': 54,\n",
       "  'end_index': 64,\n",
       "  'anonymized_text': '**********'},\n",
       " {'original_text': '20-05-2024',\n",
       "  'label': 'date',\n",
       "  'start_index': 86,\n",
       "  'end_index': 96,\n",
       "  'anonymized_text': '**********'},\n",
       " {'original_text': '123-45-6789',\n",
       "  'label': 'social security number',\n",
       "  'start_index': 121,\n",
       "  'end_index': 132,\n",
       "  'anonymized_text': '***********'},\n",
       " {'original_text': 'John Doe',\n",
       "  'label': 'name',\n",
       "  'start_index': 157,\n",
       "  'end_index': 165,\n",
       "  'anonymized_text': '**** ***'},\n",
       " {'original_text': '15-11-2024',\n",
       "  'label': 'date',\n",
       "  'start_index': 717,\n",
       "  'end_index': 727,\n",
       "  'anonymized_text': '**********'}]"
      ]
     },
     "execution_count": 13,
     "metadata": {},
     "output_type": "execute_result"
    }
   ],
   "source": [
    "replacements"
   ]
  },
  {
   "cell_type": "markdown",
   "metadata": {},
   "source": [
    "## PseudonymizationStrategy"
   ]
  },
  {
   "cell_type": "markdown",
   "metadata": {},
   "source": [
    "Pseudonymization is a data de-identification tool that substitutes private identifiers with false identifiers or pseudonyms, such as swapping the “John Smith” identifier with the “Mark Spencer” identifier. It maintains statistical precision and data confidentiality, allowing changed data to be used for creation, training, testing, and analysis, while at the same time maintaining data privacy.\n",
    "\n",
    "The `PseudonymizationStrategy` anonymizes the original text by replacing the entities with fake ones, which are created using the generators (see [Generators](/documentation/notebooks/02-generators/)).\n",
    "\n",
    "<div class=\"admonition info\">\n",
    "    <p class=\"admonition-title\">Info</p>\n",
    "    <p style=\"margin-top: .6rem; margin-bottom: .6rem\">\n",
    "        The pseudonymization strategy is the most useful in terms of retaining the statistical distributions of the text. However, it is also most technical, as the user must define a function for mapping true entities to fake ones. Furthermore, if an entity appears multiple times the pseudonymization strategy will retain the same mapping between the true and fake entities.\n",
    "    </p>\n",
    "</div>"
   ]
  },
  {
   "cell_type": "markdown",
   "metadata": {},
   "source": [
    "The `PseudonymizationStrategy` requires a function for mapping entities. In our example, we will define a function using the generators.\n",
    "To make the example accessible as possible, we will use the [MaskLabelGenerator](/documentation/notebooks/02-generators/#masklabelgenerator)\n",
    "instead of the [LLMLabelGenerator](/documentation/notebooks/02-generators/#llmlabelgenerator) for generating string entities."
   ]
  },
  {
   "cell_type": "code",
   "execution_count": 14,
   "metadata": {},
   "outputs": [],
   "source": [
    "from anonipy.anonymize.generators import (\n",
    "    MaskLabelGenerator,\n",
    "    DateGenerator,\n",
    "    NumberGenerator,\n",
    ")"
   ]
  },
  {
   "cell_type": "code",
   "execution_count": 15,
   "metadata": {},
   "outputs": [
    {
     "name": "stderr",
     "output_type": "stream",
     "text": [
      "Some weights of the model checkpoint at FacebookAI/xlm-roberta-large were not used when initializing XLMRobertaForMaskedLM: ['roberta.pooler.dense.bias', 'roberta.pooler.dense.weight']\n",
      "- This IS expected if you are initializing XLMRobertaForMaskedLM from the checkpoint of a model trained on another task or with another architecture (e.g. initializing a BertForSequenceClassification model from a BertForPreTraining model).\n",
      "- This IS NOT expected if you are initializing XLMRobertaForMaskedLM from the checkpoint of a model that you expect to be exactly identical (initializing a BertForSequenceClassification model from a BertForSequenceClassification model).\n"
     ]
    }
   ],
   "source": [
    "mask_generator = MaskLabelGenerator()\n",
    "date_generator = DateGenerator()\n",
    "number_generator = NumberGenerator()"
   ]
  },
  {
   "cell_type": "code",
   "execution_count": 16,
   "metadata": {},
   "outputs": [],
   "source": [
    "def anonymization_mapping(text, entity):\n",
    "    if entity.type == \"string\":\n",
    "        return mask_generator.generate(entity, text)\n",
    "    if entity.label == \"date\":\n",
    "        return date_generator.generate(entity, output_gen=\"middle_of_the_month\")\n",
    "    if entity.label == \"date of birth\":\n",
    "        return date_generator.generate(entity, output_gen=\"middle_of_the_year\")\n",
    "    if entity.label == \"social security number\":\n",
    "        return number_generator.generate(entity)\n",
    "    return \"[REDACTED]\""
   ]
  },
  {
   "cell_type": "markdown",
   "metadata": {},
   "source": [
    "Let us initialize the strategy:"
   ]
  },
  {
   "cell_type": "code",
   "execution_count": 17,
   "metadata": {},
   "outputs": [],
   "source": [
    "from anonipy.anonymize.strategies import PseudonymizationStrategy"
   ]
  },
  {
   "cell_type": "code",
   "execution_count": 18,
   "metadata": {},
   "outputs": [],
   "source": [
    "pseudo_strategy = PseudonymizationStrategy(mapping=anonymization_mapping)"
   ]
  },
  {
   "cell_type": "markdown",
   "metadata": {},
   "source": [
    "Using the strategy, we can anonymize the text:"
   ]
  },
  {
   "cell_type": "code",
   "execution_count": 19,
   "metadata": {},
   "outputs": [],
   "source": [
    "anonymized_text, replacements = pseudo_strategy.anonymize(original_text, entities)"
   ]
  },
  {
   "cell_type": "markdown",
   "metadata": {},
   "source": [
    "The anonymized text is:"
   ]
  },
  {
   "cell_type": "code",
   "execution_count": 20,
   "metadata": {},
   "outputs": [
    {
     "name": "stdout",
     "output_type": "stream",
     "text": [
      "Medical Record\n",
      "\n",
      "Patient Name: first Professor\n",
      "Date of Birth: 01-07-1985\n",
      "Date of Examination: 15-05-2024\n",
      "Social Security Number: 724-78-8182\n",
      "\n",
      "Examination Procedure:\n",
      "first Professor underwent a routine physical examination. The procedure included measuring vital signs (blood pressure, heart rate, temperature), a comprehensive blood panel, and a cardiovascular stress test. The patient also reported occasional headaches and dizziness, prompting a neurological assessment and an MRI scan to rule out any underlying issues.\n",
      "\n",
      "Medication Prescribed:\n",
      "\n",
      "Ibuprofen 200 mg: Take one tablet every 6-8 hours as needed for headache and pain relief.\n",
      "Lisinopril 10 mg: Take one tablet daily to manage high blood pressure.\n",
      "Next Examination Date:\n",
      "15-11-2024\n",
      "\n"
     ]
    }
   ],
   "source": [
    "print(anonymized_text)"
   ]
  },
  {
   "cell_type": "markdown",
   "metadata": {},
   "source": [
    "And the associated replacements are:"
   ]
  },
  {
   "cell_type": "code",
   "execution_count": 21,
   "metadata": {},
   "outputs": [
    {
     "data": {
      "text/plain": [
       "[{'original_text': 'John Doe',\n",
       "  'label': 'name',\n",
       "  'start_index': 30,\n",
       "  'end_index': 38,\n",
       "  'anonymized_text': 'first Professor'},\n",
       " {'original_text': '15-01-1985',\n",
       "  'label': 'date of birth',\n",
       "  'start_index': 54,\n",
       "  'end_index': 64,\n",
       "  'anonymized_text': '01-07-1985'},\n",
       " {'original_text': '20-05-2024',\n",
       "  'label': 'date',\n",
       "  'start_index': 86,\n",
       "  'end_index': 96,\n",
       "  'anonymized_text': '15-05-2024'},\n",
       " {'original_text': '123-45-6789',\n",
       "  'label': 'social security number',\n",
       "  'start_index': 121,\n",
       "  'end_index': 132,\n",
       "  'anonymized_text': '724-78-8182'},\n",
       " {'original_text': 'John Doe',\n",
       "  'label': 'name',\n",
       "  'start_index': 157,\n",
       "  'end_index': 165,\n",
       "  'anonymized_text': 'first Professor'},\n",
       " {'original_text': '15-11-2024',\n",
       "  'label': 'date',\n",
       "  'start_index': 717,\n",
       "  'end_index': 727,\n",
       "  'anonymized_text': '15-11-2024'}]"
      ]
     },
     "execution_count": 21,
     "metadata": {},
     "output_type": "execute_result"
    }
   ],
   "source": [
    "replacements"
   ]
  }
 ],
 "metadata": {
  "kernelspec": {
   "display_name": "venv",
   "language": "python",
   "name": "python3"
  },
  "language_info": {
   "codemirror_mode": {
    "name": "ipython",
    "version": 3
   },
   "file_extension": ".py",
   "mimetype": "text/x-python",
   "name": "python",
   "nbconvert_exporter": "python",
   "pygments_lexer": "ipython3",
   "version": "3.10.12"
  }
 },
 "nbformat": 4,
 "nbformat_minor": 2
}
