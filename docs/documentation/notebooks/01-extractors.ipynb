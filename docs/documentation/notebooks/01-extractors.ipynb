{
 "cells": [
  {
   "cell_type": "markdown",
   "metadata": {},
   "source": [
    "# Extractors\n",
    "\n",
    "This chapter showcases how to use the label extractors in the package.\n",
    "\n",
    "The label extractors are used to extract relevant `named entities` from text. These \n",
    "entities can be people names, organizations, addresses, social security numbers, etc.\n",
    "The entities are then used to anonymize the text."
   ]
  },
  {
   "cell_type": "code",
   "execution_count": 1,
   "metadata": {},
   "outputs": [],
   "source": [
    "# used to hide warnings\n",
    "import warnings\n",
    "\n",
    "warnings.filterwarnings(\"ignore\")"
   ]
  },
  {
   "cell_type": "markdown",
   "metadata": {},
   "source": [
    "Let us first define the text, from which we want to extract the entities."
   ]
  },
  {
   "cell_type": "code",
   "execution_count": 2,
   "metadata": {},
   "outputs": [],
   "source": [
    "original_text = \"\"\"\\\n",
    "Medical Record\n",
    "\n",
    "Patient Name: John Doe\n",
    "Date of Birth: 15-01-1985\n",
    "Date of Examination: 20-05-2024\n",
    "Social Security Number: 123-45-6789\n",
    "\n",
    "Examination Procedure:\n",
    "John Doe underwent a routine physical examination. The procedure included measuring vital signs (blood pressure, heart rate, temperature), a comprehensive blood panel, and a cardiovascular stress test. The patient also reported occasional headaches and dizziness, prompting a neurological assessment and an MRI scan to rule out any underlying issues.\n",
    "\n",
    "Medication Prescribed:\n",
    "\n",
    "Ibuprofen 200 mg: Take one tablet every 6-8 hours as needed for headache and pain relief.\n",
    "Lisinopril 10 mg: Take one tablet daily to manage high blood pressure.\n",
    "Next Examination Date:\n",
    "15-11-2024\n",
    "\"\"\""
   ]
  },
  {
   "cell_type": "markdown",
   "metadata": {},
   "source": [
    "## Language configuration"
   ]
  },
  {
   "cell_type": "markdown",
   "metadata": {},
   "source": [
    "First, we must specify the language that the text is written in. We can do this manually or by using a language detector."
   ]
  },
  {
   "cell_type": "markdown",
   "metadata": {},
   "source": [
    "### Manual selection"
   ]
  },
  {
   "cell_type": "markdown",
   "metadata": {},
   "source": [
    "One option, when all of the texts are in the same language, is to use manually specifying the text language. \n",
    "In the `anonipy` package, we provide a constant called `LANGUAGES` in the `constants` submodule, which \n",
    "contains all the supported languages. Please find the format of the language code in the `constants` module.\n",
    "\n",
    "Since the `original_text` is in English, we will use the `LANGUAGES.ENGLISH` predefined constant.\n"
   ]
  },
  {
   "cell_type": "code",
   "execution_count": 3,
   "metadata": {},
   "outputs": [],
   "source": [
    "from anonipy.constants import LANGUAGES"
   ]
  },
  {
   "cell_type": "code",
   "execution_count": 4,
   "metadata": {},
   "outputs": [
    {
     "data": {
      "text/plain": [
       "('en', 'English')"
      ]
     },
     "execution_count": 4,
     "metadata": {},
     "output_type": "execute_result"
    }
   ],
   "source": [
    "LANGUAGES.ENGLISH"
   ]
  },
  {
   "cell_type": "markdown",
   "metadata": {},
   "source": [
    "### Using language detector"
   ]
  },
  {
   "cell_type": "markdown",
   "metadata": {},
   "source": [
    "An alternative is to use a language detector available in the `anonipy` package. \n",
    "The language detector is created using the [lingua](https://github.com/pemistahl/lingua-py) python package, \n",
    "and allows automatic detection of the text language."
   ]
  },
  {
   "cell_type": "code",
   "execution_count": 5,
   "metadata": {},
   "outputs": [],
   "source": [
    "from anonipy.utils.language_detector import LanguageDetector"
   ]
  },
  {
   "cell_type": "markdown",
   "metadata": {},
   "source": [
    "Initialize the language detector and use it to automatically detect the language of the text."
   ]
  },
  {
   "cell_type": "code",
   "execution_count": 6,
   "metadata": {},
   "outputs": [
    {
     "data": {
      "text/plain": [
       "('en', 'English')"
      ]
     },
     "execution_count": 6,
     "metadata": {},
     "output_type": "execute_result"
    }
   ],
   "source": [
    "lang_detector = LanguageDetector()\n",
    "lang_detector(original_text)"
   ]
  },
  {
   "cell_type": "markdown",
   "metadata": {},
   "source": [
    "## Using extractors"
   ]
  },
  {
   "cell_type": "markdown",
   "metadata": {},
   "source": [
    "### Initialization"
   ]
  },
  {
   "cell_type": "markdown",
   "metadata": {},
   "source": [
    "We can now initialize the label extractors. This is done using the `NERExtractor` class found in `anonipy.anonymize.extractors` submodule.\n",
    "\n",
    "<div class=\"admonition info\">\n",
    "    <p class=\"admonition-title\">Info</p>\n",
    "    <p style=\"margin-top: .6rem; margin-bottom: .6rem\">\n",
    "        The <code>NERExtractor</code> class is created using the <a href=\"https://github.com/urchade/GLiNER\" target=\"_blank\">GLiNER</a> models, specifically the one that is finetuned for recognizing Personally Identifiable Information (PII) within text. The model has been finetuned on six languages (English, French, German, Spanish, Italian, and Portuguese), but can be applied also to other languages.\n",
    "    </p>\n",
    "</div>"
   ]
  },
  {
   "cell_type": "code",
   "execution_count": 7,
   "metadata": {},
   "outputs": [],
   "source": [
    "from anonipy.anonymize.extractors import NERExtractor"
   ]
  },
  {
   "cell_type": "markdown",
   "metadata": {},
   "source": [
    "The `NERExtractor` class takes the following arguments:\n",
    "\n",
    "- `labels`: A list of dictionaries containing the labels to be extracted. \n",
    "- `lang`: The language of the text to be anonymized. Defaults to `LANGUAGES.ENGLISH`.\n",
    "- `score_th`: The score threshold used to filter the labels, i.e. the entity has to have a score greater than `score_th` to be considered. Defaults to 0.5.\n",
    "- `use_gpu`: Whether to use the GPU. Defaults to `False`.\n",
    "\n",
    "We must now define the labels to be extracted. In this example, we will extract the people name, the dates, and the social security number from the text."
   ]
  },
  {
   "cell_type": "code",
   "execution_count": 8,
   "metadata": {},
   "outputs": [],
   "source": [
    "labels = [\n",
    "    {\"label\": \"name\", \"type\": \"string\"},\n",
    "    {\n",
    "        \"label\": \"social security number\",\n",
    "        \"type\": \"custom\",\n",
    "        \"regex\": \"[0-9]{3}-[0-9]{2}-[0-9]{4}\",\n",
    "    },\n",
    "    {\"label\": \"date of birth\", \"type\": \"date\"},\n",
    "    {\"label\": \"date\", \"type\": \"date\"},\n",
    "]"
   ]
  },
  {
   "cell_type": "markdown",
   "metadata": {},
   "source": [
    "Let us now initialize the entity extractor.\n",
    "\n",
    "<div class=\"admonition info\">\n",
    "    <p class=\"admonition-title\">Info</p>\n",
    "    <p style=\"margin-top: .6rem; margin-bottom: .6rem\">\n",
    "        The initialization of <code>NERExtractor</code> will throw some warnings. Ignore them.\n",
    "        These are expected due to the use of package dependencies.\n",
    "    </p>\n",
    "</div>"
   ]
  },
  {
   "cell_type": "code",
   "execution_count": 9,
   "metadata": {},
   "outputs": [],
   "source": [
    "ner_extractor = NERExtractor(labels, lang=LANGUAGES.ENGLISH, score_th=0.5)"
   ]
  },
  {
   "cell_type": "markdown",
   "metadata": {},
   "source": [
    "### Entity extraction"
   ]
  },
  {
   "cell_type": "markdown",
   "metadata": {},
   "source": [
    "The `NERExtractor` receives the text to be anonymized and returns the enriched text document and the extracted entities."
   ]
  },
  {
   "cell_type": "code",
   "execution_count": 10,
   "metadata": {},
   "outputs": [],
   "source": [
    "doc, entities = ner_extractor(original_text)"
   ]
  },
  {
   "cell_type": "markdown",
   "metadata": {},
   "source": [
    "The entities extracted within the input text are:"
   ]
  },
  {
   "cell_type": "code",
   "execution_count": 11,
   "metadata": {},
   "outputs": [
    {
     "data": {
      "text/html": [
       "<span class=\"tex2jax_ignore\"><div class=\"entities\" style=\"line-height: 2.5; direction: ltr\">Medical Record<br><br>Patient Name: \n",
       "<mark class=\"entity\" style=\"background: #5C7AEA; padding: 0.45em 0.6em; margin: 0 0.25em; line-height: 1; border-radius: 0.35em;\">\n",
       "    John Doe\n",
       "    <span style=\"font-size: 0.8em; font-weight: bold; line-height: 1; border-radius: 0.35em; vertical-align: middle; margin-left: 0.5rem\">name</span>\n",
       "</mark>\n",
       "<br>Date of Birth: \n",
       "<mark class=\"entity\" style=\"background: #5C7AEA; padding: 0.45em 0.6em; margin: 0 0.25em; line-height: 1; border-radius: 0.35em;\">\n",
       "    15-01-1985\n",
       "    <span style=\"font-size: 0.8em; font-weight: bold; line-height: 1; border-radius: 0.35em; vertical-align: middle; margin-left: 0.5rem\">date of birth</span>\n",
       "</mark>\n",
       "<br>Date of Examination: \n",
       "<mark class=\"entity\" style=\"background: #5C7AEA; padding: 0.45em 0.6em; margin: 0 0.25em; line-height: 1; border-radius: 0.35em;\">\n",
       "    20-05-2024\n",
       "    <span style=\"font-size: 0.8em; font-weight: bold; line-height: 1; border-radius: 0.35em; vertical-align: middle; margin-left: 0.5rem\">date</span>\n",
       "</mark>\n",
       "<br>Social Security Number: \n",
       "<mark class=\"entity\" style=\"background: #5C7AEA; padding: 0.45em 0.6em; margin: 0 0.25em; line-height: 1; border-radius: 0.35em;\">\n",
       "    123-45-6789\n",
       "    <span style=\"font-size: 0.8em; font-weight: bold; line-height: 1; border-radius: 0.35em; vertical-align: middle; margin-left: 0.5rem\">social security number</span>\n",
       "</mark>\n",
       "<br><br>Examination Procedure:<br>\n",
       "<mark class=\"entity\" style=\"background: #5C7AEA; padding: 0.45em 0.6em; margin: 0 0.25em; line-height: 1; border-radius: 0.35em;\">\n",
       "    John Doe\n",
       "    <span style=\"font-size: 0.8em; font-weight: bold; line-height: 1; border-radius: 0.35em; vertical-align: middle; margin-left: 0.5rem\">name</span>\n",
       "</mark>\n",
       " underwent a routine physical examination. The procedure included measuring vital signs (blood pressure, heart rate, temperature), a comprehensive blood panel, and a cardiovascular stress test. The patient also reported occasional headaches and dizziness, prompting a neurological assessment and an MRI scan to rule out any underlying issues.<br><br>Medication Prescribed:<br><br>Ibuprofen 200 mg: Take one tablet every 6-8 hours as needed for headache and pain relief.<br>Lisinopril 10 mg: Take one tablet daily to manage high blood pressure.<br>Next Examination Date:<br>\n",
       "<mark class=\"entity\" style=\"background: #5C7AEA; padding: 0.45em 0.6em; margin: 0 0.25em; line-height: 1; border-radius: 0.35em;\">\n",
       "    15-11-2024\n",
       "    <span style=\"font-size: 0.8em; font-weight: bold; line-height: 1; border-radius: 0.35em; vertical-align: middle; margin-left: 0.5rem\">date</span>\n",
       "</mark>\n",
       "<br></div></span>"
      ],
      "text/plain": [
       "<IPython.core.display.HTML object>"
      ]
     },
     "metadata": {},
     "output_type": "display_data"
    }
   ],
   "source": [
    "ner_extractor.display(doc)"
   ]
  },
  {
   "cell_type": "markdown",
   "metadata": {},
   "source": [
    "The extracted entities are stored in the `entities` variable. Each entity contains the following information:\n",
    "\n",
    "- `text`: The text of the entity.\n",
    "- `label`: The label of the entity.\n",
    "- `start_index`: The start index of the entity in the text.\n",
    "- `end_index`: The end index of the entity in the text.\n",
    "- `score`: The score of the entity. It shows how certain the model is that the entity is relevant.\n",
    "- `type`: The type of the entity (taken from the defined `labels` variable list).\n",
    "- `regex`: The regular expression the entity must match."
   ]
  },
  {
   "cell_type": "code",
   "execution_count": 12,
   "metadata": {},
   "outputs": [
    {
     "data": {
      "text/plain": [
       "[Entity(text='John Doe', label='name', start_index=30, end_index=38, score=0.9961156845092773, type='string', regex='.*'),\n",
       " Entity(text='15-01-1985', label='date of birth', start_index=54, end_index=64, score=0.9937193393707275, type='date', regex='(\\\\d{1,2}[\\\\/\\\\-\\\\.]\\\\d{1,2}[\\\\/\\\\-\\\\.]\\\\d{2,4})|(\\\\d{2,4}[\\\\/\\\\-\\\\.]\\\\d{1,2}[\\\\/\\\\-\\\\.]\\\\d{1,2})'),\n",
       " Entity(text='20-05-2024', label='date', start_index=86, end_index=96, score=0.9867385625839233, type='date', regex='(\\\\d{1,2}[\\\\/\\\\-\\\\.]\\\\d{1,2}[\\\\/\\\\-\\\\.]\\\\d{2,4})|(\\\\d{2,4}[\\\\/\\\\-\\\\.]\\\\d{1,2}[\\\\/\\\\-\\\\.]\\\\d{1,2})'),\n",
       " Entity(text='123-45-6789', label='social security number', start_index=121, end_index=132, score=0.9993416666984558, type='custom', regex='[0-9]{3}-[0-9]{2}-[0-9]{4}'),\n",
       " Entity(text='John Doe', label='name', start_index=157, end_index=165, score=0.994924783706665, type='string', regex='.*'),\n",
       " Entity(text='15-11-2024', label='date', start_index=717, end_index=727, score=0.8285622596740723, type='date', regex='(\\\\d{1,2}[\\\\/\\\\-\\\\.]\\\\d{1,2}[\\\\/\\\\-\\\\.]\\\\d{2,4})|(\\\\d{2,4}[\\\\/\\\\-\\\\.]\\\\d{1,2}[\\\\/\\\\-\\\\.]\\\\d{1,2})')]"
      ]
     },
     "execution_count": 12,
     "metadata": {},
     "output_type": "execute_result"
    }
   ],
   "source": [
    "entities"
   ]
  },
  {
   "cell_type": "markdown",
   "metadata": {},
   "source": [
    "## Advices and suggestions"
   ]
  },
  {
   "cell_type": "markdown",
   "metadata": {},
   "source": [
    "**Use specific label names.**\n",
    "In the above example, we used specific label names to extract the entities. If \n",
    "we use a less specific name, the entity extractor might not find any relevant entity.\n",
    "\n",
    "For instance, when using `social security number` as the label name, the entity extractor\n",
    "is able to extract the social security number from the text. However, if we use `ssn` or \n",
    "just `number` as the label name, the entity extractor might not find any relevant entity.\n",
    "\n",
    "<div class=\"admonition tip\">\n",
    "    <p class=\"admonition-title\">Tip</p>\n",
    "    <p style=\"margin-top: .6rem; margin-bottom: .6rem\">\n",
    "        Using more specific label names is better.\n",
    "    </p>\n",
    "</div>"
   ]
  },
  {
   "cell_type": "markdown",
   "metadata": {},
   "source": [
    "**Use custom regex patterns.**\n",
    "In the `anonipy` package, we provide some predefined entity types, which are:\n",
    "\n",
    "- `string`. Extracts a string from the text.\n",
    "- `integer`. Extracts an integer from the text.\n",
    "- `float`. Extracts a float from the text.\n",
    "- `date`. Extracts a date from the text.\n",
    "- `email`. Extracts an email address from the text.\n",
    "- `phone_number`. Extracts a phone number from the text.\n",
    "- `website_url`. Extracts an URL from the text.\n",
    "\n",
    "These entity types also have a corresponding regex pattern, as defined in the `anonipy.anonymize.regex` submodule."
   ]
  },
  {
   "cell_type": "code",
   "execution_count": 13,
   "metadata": {},
   "outputs": [
    {
     "name": "stdout",
     "output_type": "stream",
     "text": [
      "string       : .*\n",
      "integer      : \\d+\n",
      "float        : [\\d\\.,]+\n",
      "date         : (\\d{1,2}[\\/\\-\\.]\\d{1,2}[\\/\\-\\.]\\d{2,4})|(\\d{2,4}[\\/\\-\\.]\\d{1,2}[\\/\\-\\.]\\d{1,2})\n",
      "email        : [a-zA-Z0-9.!#$%&’*+/=?^_`{|}~-]+@[a-zA-Z0-9-]+(?:\\.[a-zA-Z0-9-]+)*\n",
      "phone_number : [(]?[\\+]?[(]?[0-9]{1,3}[)]?[-\\s\\.]?([0-9]{2,}[-\\s\\.]?){2,}([0-9]{3,})\n",
      "website_url  : ((https?|ftp|smtp):\\/\\/)?(www.)?([a-zA-Z0-9]+\\.)+[a-z]{2,}(\\/[a-zA-Z0-9#\\?\\_\\.\\=\\-\\&]+|\\/?)*\n"
     ]
    }
   ],
   "source": [
    "from anonipy.anonymize.regex import regex_map\n",
    "\n",
    "for type in [\n",
    "    \"string\",\n",
    "    \"integer\",\n",
    "    \"float\",\n",
    "    \"date\",\n",
    "    \"email\",\n",
    "    \"phone_number\",\n",
    "    \"website_url\",\n",
    "]:\n",
    "    print(f\"{type:<13}: {regex_map(type)}\")"
   ]
  },
  {
   "cell_type": "markdown",
   "metadata": {},
   "source": [
    "If the user wants to use a custom regex pattern, they can define it in the `labels` \n",
    "variable list. Using a custom regex pattern allows the user to specify a more strict \n",
    "pattern that the entity must match.\n",
    "\n",
    "The custom regex can be specified in the following way:"
   ]
  },
  {
   "cell_type": "code",
   "execution_count": 14,
   "metadata": {},
   "outputs": [],
   "source": [
    "labels = [\n",
    "    {\"label\": \"name\", \"type\": \"string\"},\n",
    "    # using the custom regex pattern: type must be 'custom' and specify the regex pattern in the 'regex' key\n",
    "    {\n",
    "        \"label\": \"social security number\",\n",
    "        \"type\": \"custom\",\n",
    "        \"regex\": \"[0-9]{3}-[0-9]{2}-[0-9]{4}\",\n",
    "    },\n",
    "    {\"label\": \"date of birth\", \"type\": \"date\"},\n",
    "    {\"label\": \"date\", \"type\": \"date\"},\n",
    "]"
   ]
  },
  {
   "cell_type": "markdown",
   "metadata": {},
   "source": [
    "Lets rerun the above example:"
   ]
  },
  {
   "cell_type": "code",
   "execution_count": 15,
   "metadata": {},
   "outputs": [],
   "source": [
    "# ignore the warnings: these are expected due to the use of package dependencies\n",
    "ner_extractor = NERExtractor(labels, lang=LANGUAGES.ENGLISH, score_th=0.5)"
   ]
  },
  {
   "cell_type": "code",
   "execution_count": 16,
   "metadata": {},
   "outputs": [],
   "source": [
    "doc, entities = ner_extractor(original_text)"
   ]
  },
  {
   "cell_type": "markdown",
   "metadata": {},
   "source": [
    "The extracted entities are the same as before. The difference is that the social \n",
    "security number now also had to match the custom regex pattern."
   ]
  },
  {
   "cell_type": "code",
   "execution_count": 17,
   "metadata": {},
   "outputs": [
    {
     "data": {
      "text/html": [
       "<span class=\"tex2jax_ignore\"><div class=\"entities\" style=\"line-height: 2.5; direction: ltr\">Medical Record<br><br>Patient Name: \n",
       "<mark class=\"entity\" style=\"background: #5C7AEA; padding: 0.45em 0.6em; margin: 0 0.25em; line-height: 1; border-radius: 0.35em;\">\n",
       "    John Doe\n",
       "    <span style=\"font-size: 0.8em; font-weight: bold; line-height: 1; border-radius: 0.35em; vertical-align: middle; margin-left: 0.5rem\">name</span>\n",
       "</mark>\n",
       "<br>Date of Birth: \n",
       "<mark class=\"entity\" style=\"background: #5C7AEA; padding: 0.45em 0.6em; margin: 0 0.25em; line-height: 1; border-radius: 0.35em;\">\n",
       "    15-01-1985\n",
       "    <span style=\"font-size: 0.8em; font-weight: bold; line-height: 1; border-radius: 0.35em; vertical-align: middle; margin-left: 0.5rem\">date of birth</span>\n",
       "</mark>\n",
       "<br>Date of Examination: \n",
       "<mark class=\"entity\" style=\"background: #5C7AEA; padding: 0.45em 0.6em; margin: 0 0.25em; line-height: 1; border-radius: 0.35em;\">\n",
       "    20-05-2024\n",
       "    <span style=\"font-size: 0.8em; font-weight: bold; line-height: 1; border-radius: 0.35em; vertical-align: middle; margin-left: 0.5rem\">date</span>\n",
       "</mark>\n",
       "<br>Social Security Number: \n",
       "<mark class=\"entity\" style=\"background: #5C7AEA; padding: 0.45em 0.6em; margin: 0 0.25em; line-height: 1; border-radius: 0.35em;\">\n",
       "    123-45-6789\n",
       "    <span style=\"font-size: 0.8em; font-weight: bold; line-height: 1; border-radius: 0.35em; vertical-align: middle; margin-left: 0.5rem\">social security number</span>\n",
       "</mark>\n",
       "<br><br>Examination Procedure:<br>\n",
       "<mark class=\"entity\" style=\"background: #5C7AEA; padding: 0.45em 0.6em; margin: 0 0.25em; line-height: 1; border-radius: 0.35em;\">\n",
       "    John Doe\n",
       "    <span style=\"font-size: 0.8em; font-weight: bold; line-height: 1; border-radius: 0.35em; vertical-align: middle; margin-left: 0.5rem\">name</span>\n",
       "</mark>\n",
       " underwent a routine physical examination. The procedure included measuring vital signs (blood pressure, heart rate, temperature), a comprehensive blood panel, and a cardiovascular stress test. The patient also reported occasional headaches and dizziness, prompting a neurological assessment and an MRI scan to rule out any underlying issues.<br><br>Medication Prescribed:<br><br>Ibuprofen 200 mg: Take one tablet every 6-8 hours as needed for headache and pain relief.<br>Lisinopril 10 mg: Take one tablet daily to manage high blood pressure.<br>Next Examination Date:<br>\n",
       "<mark class=\"entity\" style=\"background: #5C7AEA; padding: 0.45em 0.6em; margin: 0 0.25em; line-height: 1; border-radius: 0.35em;\">\n",
       "    15-11-2024\n",
       "    <span style=\"font-size: 0.8em; font-weight: bold; line-height: 1; border-radius: 0.35em; vertical-align: middle; margin-left: 0.5rem\">date</span>\n",
       "</mark>\n",
       "<br></div></span>"
      ],
      "text/plain": [
       "<IPython.core.display.HTML object>"
      ]
     },
     "metadata": {},
     "output_type": "display_data"
    }
   ],
   "source": [
    "ner_extractor.display(doc)"
   ]
  },
  {
   "cell_type": "markdown",
   "metadata": {},
   "source": [
    "## Creating custom extractors"
   ]
  },
  {
   "cell_type": "markdown",
   "metadata": {},
   "source": [
    "The user can develop their own custom extractor. To do this, the custom extractor\n",
    "must inherit from the `ExtractorInterface` class. \n",
    "\n",
    "The extractor must have two methods defined: `__init__` and `__call__`.\n",
    "\n",
    "An example of a custom extractor that extracts only a specific regex pattern from \n",
    "the text is shown below:"
   ]
  },
  {
   "cell_type": "code",
   "execution_count": 20,
   "metadata": {},
   "outputs": [],
   "source": [
    "import re\n",
    "from anonipy.anonymize.extractors import ExtractorInterface\n",
    "from anonipy.definitions import Entity\n",
    "\n",
    "\n",
    "class CustomExtractor(ExtractorInterface):\n",
    "\n",
    "    def __init__(self):\n",
    "        # the custom extractor will retrieve entities that follow the regex pattern\n",
    "        self.regex_pattern = re.compile(r\"\\d{1,2}-\\d{1,2}-\\d{2,4}\")\n",
    "\n",
    "    def __call__(self, text: str) -> tuple[str, list[Entity]]:\n",
    "        entities = []\n",
    "        for match in re.finditer(self.regex_pattern, text):\n",
    "            entities.append(\n",
    "                Entity(\n",
    "                    text=match.group(),\n",
    "                    label=\"date\",\n",
    "                    start_index=match.start(),\n",
    "                    end_index=match.end(),\n",
    "                    score=1.0,\n",
    "                    type=\"date\",\n",
    "                    regex=self.regex_pattern,\n",
    "                )\n",
    "            )\n",
    "        return text, entities"
   ]
  },
  {
   "cell_type": "code",
   "execution_count": 21,
   "metadata": {},
   "outputs": [],
   "source": [
    "custom_extractor = CustomExtractor()\n",
    "_, entities = custom_extractor(original_text)"
   ]
  },
  {
   "cell_type": "markdown",
   "metadata": {},
   "source": [
    "Let us output the extracted entities. Note that the third entity corresponds to a part of the social security number."
   ]
  },
  {
   "cell_type": "code",
   "execution_count": 22,
   "metadata": {},
   "outputs": [
    {
     "data": {
      "text/plain": [
       "[Entity(text='15-01-1985', label='date', start_index=54, end_index=64, score=1.0, type='date', regex=re.compile('\\\\d{1,2}-\\\\d{1,2}-\\\\d{2,4}')),\n",
       " Entity(text='20-05-2024', label='date', start_index=86, end_index=96, score=1.0, type='date', regex=re.compile('\\\\d{1,2}-\\\\d{1,2}-\\\\d{2,4}')),\n",
       " Entity(text='23-45-6789', label='date', start_index=122, end_index=132, score=1.0, type='date', regex=re.compile('\\\\d{1,2}-\\\\d{1,2}-\\\\d{2,4}')),\n",
       " Entity(text='15-11-2024', label='date', start_index=717, end_index=727, score=1.0, type='date', regex=re.compile('\\\\d{1,2}-\\\\d{1,2}-\\\\d{2,4}'))]"
      ]
     },
     "execution_count": 22,
     "metadata": {},
     "output_type": "execute_result"
    }
   ],
   "source": [
    "entities"
   ]
  },
  {
   "cell_type": "code",
   "execution_count": null,
   "metadata": {},
   "outputs": [],
   "source": []
  }
 ],
 "metadata": {
  "kernelspec": {
   "display_name": "venv",
   "language": "python",
   "name": "python3"
  },
  "language_info": {
   "codemirror_mode": {
    "name": "ipython",
    "version": 3
   },
   "file_extension": ".py",
   "mimetype": "text/x-python",
   "name": "python",
   "nbconvert_exporter": "python",
   "pygments_lexer": "ipython3",
   "version": "3.10.12"
  }
 },
 "nbformat": 4,
 "nbformat_minor": 2
}
