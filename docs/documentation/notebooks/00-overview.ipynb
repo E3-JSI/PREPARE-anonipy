{
 "cells": [
  {
   "cell_type": "markdown",
   "metadata": {},
   "source": [
    "# Overview\n",
    "\n",
    "This notebook provides an overview of the package and its functionality."
   ]
  },
  {
   "cell_type": "code",
   "execution_count": 1,
   "metadata": {},
   "outputs": [],
   "source": [
    "# used to hide warnings\n",
    "import warnings\n",
    "\n",
    "warnings.filterwarnings(\"ignore\")"
   ]
  },
  {
   "cell_type": "markdown",
   "metadata": {},
   "source": [
    "Let us first define the text, from which we will showcase the package's functionality."
   ]
  },
  {
   "cell_type": "code",
   "execution_count": 2,
   "metadata": {},
   "outputs": [],
   "source": [
    "original_text = \"\"\"\\\n",
    "Medical Record\n",
    "\n",
    "Patient Name: John Doe\n",
    "Date of Birth: 15-01-1985\n",
    "Date of Examination: 20-05-2024\n",
    "Social Security Number: 123-45-6789\n",
    "\n",
    "Examination Procedure:\n",
    "John Doe underwent a routine physical examination. The procedure included measuring vital signs (blood pressure, heart rate, temperature), a comprehensive blood panel, and a cardiovascular stress test. The patient also reported occasional headaches and dizziness, prompting a neurological assessment and an MRI scan to rule out any underlying issues.\n",
    "\n",
    "Medication Prescribed:\n",
    "\n",
    "Ibuprofen 200 mg: Take one tablet every 6-8 hours as needed for headache and pain relief.\n",
    "Lisinopril 10 mg: Take one tablet daily to manage high blood pressure.\n",
    "Next Examination Date:\n",
    "15-11-2024\n",
    "\"\"\""
   ]
  },
  {
   "cell_type": "markdown",
   "metadata": {},
   "source": [
    "## Extract personal information from text"
   ]
  },
  {
   "cell_type": "markdown",
   "metadata": {},
   "source": [
    "The `anonipy` has implemented entity extraction components, that can be used to extract personal information from text.\n",
    "\n",
    "More can be found in the chapter [Extractors](/documentation/notebooks/01-extractors)."
   ]
  },
  {
   "cell_type": "markdown",
   "metadata": {},
   "source": [
    "### Language detector"
   ]
  },
  {
   "cell_type": "code",
   "execution_count": 3,
   "metadata": {},
   "outputs": [],
   "source": [
    "from anonipy.utils.language_detector import LanguageDetector\n",
    "\n",
    "lang_detector = LanguageDetector()"
   ]
  },
  {
   "cell_type": "code",
   "execution_count": 4,
   "metadata": {},
   "outputs": [
    {
     "data": {
      "text/plain": [
       "('en', 'English')"
      ]
     },
     "execution_count": 4,
     "metadata": {},
     "output_type": "execute_result"
    }
   ],
   "source": [
    "# identify the language of the original text\n",
    "language = lang_detector(original_text)\n",
    "language"
   ]
  },
  {
   "cell_type": "markdown",
   "metadata": {},
   "source": [
    "### Extract personal information"
   ]
  },
  {
   "cell_type": "code",
   "execution_count": 5,
   "metadata": {},
   "outputs": [],
   "source": [
    "from anonipy.anonymize.extractors import NERExtractor"
   ]
  },
  {
   "cell_type": "code",
   "execution_count": 6,
   "metadata": {},
   "outputs": [],
   "source": [
    "# define the labels to be extracted and anonymized\n",
    "labels = [\n",
    "    {\"label\": \"name\", \"type\": \"string\"},\n",
    "    {\n",
    "        \"label\": \"social security number\",\n",
    "        \"type\": \"custom\",\n",
    "        \"regex\": \"[0-9]{3}-[0-9]{2}-[0-9]{4}\",\n",
    "    },\n",
    "    {\"label\": \"date of birth\", \"type\": \"date\"},\n",
    "    {\"label\": \"date\", \"type\": \"date\"},\n",
    "]"
   ]
  },
  {
   "cell_type": "code",
   "execution_count": 7,
   "metadata": {},
   "outputs": [],
   "source": [
    "# language taken from the language detector\n",
    "entity_extractor = NERExtractor(labels, lang=language, score_th=0.5)"
   ]
  },
  {
   "cell_type": "code",
   "execution_count": 8,
   "metadata": {},
   "outputs": [],
   "source": [
    "# extract the entities from the original text\n",
    "doc, entities = entity_extractor(original_text)"
   ]
  },
  {
   "cell_type": "code",
   "execution_count": 9,
   "metadata": {},
   "outputs": [
    {
     "data": {
      "text/html": [
       "<span class=\"tex2jax_ignore\"><div class=\"entities\" style=\"line-height: 2.5; direction: ltr\">Medical Record<br><br>Patient Name: \n",
       "<mark class=\"entity\" style=\"background: #5C7AEA; padding: 0.45em 0.6em; margin: 0 0.25em; line-height: 1; border-radius: 0.35em;\">\n",
       "    John Doe\n",
       "    <span style=\"font-size: 0.8em; font-weight: bold; line-height: 1; border-radius: 0.35em; vertical-align: middle; margin-left: 0.5rem\">name</span>\n",
       "</mark>\n",
       "<br>Date of Birth: \n",
       "<mark class=\"entity\" style=\"background: #5C7AEA; padding: 0.45em 0.6em; margin: 0 0.25em; line-height: 1; border-radius: 0.35em;\">\n",
       "    15-01-1985\n",
       "    <span style=\"font-size: 0.8em; font-weight: bold; line-height: 1; border-radius: 0.35em; vertical-align: middle; margin-left: 0.5rem\">date of birth</span>\n",
       "</mark>\n",
       "<br>Date of Examination: \n",
       "<mark class=\"entity\" style=\"background: #5C7AEA; padding: 0.45em 0.6em; margin: 0 0.25em; line-height: 1; border-radius: 0.35em;\">\n",
       "    20-05-2024\n",
       "    <span style=\"font-size: 0.8em; font-weight: bold; line-height: 1; border-radius: 0.35em; vertical-align: middle; margin-left: 0.5rem\">date</span>\n",
       "</mark>\n",
       "<br>Social Security Number: \n",
       "<mark class=\"entity\" style=\"background: #5C7AEA; padding: 0.45em 0.6em; margin: 0 0.25em; line-height: 1; border-radius: 0.35em;\">\n",
       "    123-45-6789\n",
       "    <span style=\"font-size: 0.8em; font-weight: bold; line-height: 1; border-radius: 0.35em; vertical-align: middle; margin-left: 0.5rem\">social security number</span>\n",
       "</mark>\n",
       "<br><br>Examination Procedure:<br>\n",
       "<mark class=\"entity\" style=\"background: #5C7AEA; padding: 0.45em 0.6em; margin: 0 0.25em; line-height: 1; border-radius: 0.35em;\">\n",
       "    John Doe\n",
       "    <span style=\"font-size: 0.8em; font-weight: bold; line-height: 1; border-radius: 0.35em; vertical-align: middle; margin-left: 0.5rem\">name</span>\n",
       "</mark>\n",
       " underwent a routine physical examination. The procedure included measuring vital signs (blood pressure, heart rate, temperature), a comprehensive blood panel, and a cardiovascular stress test. The patient also reported occasional headaches and dizziness, prompting a neurological assessment and an MRI scan to rule out any underlying issues.<br><br>Medication Prescribed:<br><br>Ibuprofen 200 mg: Take one tablet every 6-8 hours as needed for headache and pain relief.<br>Lisinopril 10 mg: Take one tablet daily to manage high blood pressure.<br>Next Examination Date:<br>\n",
       "<mark class=\"entity\" style=\"background: #5C7AEA; padding: 0.45em 0.6em; margin: 0 0.25em; line-height: 1; border-radius: 0.35em;\">\n",
       "    15-11-2024\n",
       "    <span style=\"font-size: 0.8em; font-weight: bold; line-height: 1; border-radius: 0.35em; vertical-align: middle; margin-left: 0.5rem\">date</span>\n",
       "</mark>\n",
       "<br></div></span>"
      ],
      "text/plain": [
       "<IPython.core.display.HTML object>"
      ]
     },
     "metadata": {},
     "output_type": "display_data"
    }
   ],
   "source": [
    "# display the entities in the original text\n",
    "entity_extractor.display(doc)"
   ]
  },
  {
   "cell_type": "markdown",
   "metadata": {},
   "source": [
    "The extracted entities metadata is available in the `entities` variable, which are:"
   ]
  },
  {
   "cell_type": "code",
   "execution_count": 10,
   "metadata": {},
   "outputs": [
    {
     "data": {
      "text/plain": [
       "[Entity(text='John Doe', label='name', start_index=30, end_index=38, score=0.9961156845092773, type='string', regex='.*'),\n",
       " Entity(text='15-01-1985', label='date of birth', start_index=54, end_index=64, score=0.9937193393707275, type='date', regex='(\\\\d{1,2}[\\\\/\\\\-\\\\.]\\\\d{1,2}[\\\\/\\\\-\\\\.]\\\\d{2,4})|(\\\\d{2,4}[\\\\/\\\\-\\\\.]\\\\d{1,2}[\\\\/\\\\-\\\\.]\\\\d{1,2})'),\n",
       " Entity(text='20-05-2024', label='date', start_index=86, end_index=96, score=0.9867385625839233, type='date', regex='(\\\\d{1,2}[\\\\/\\\\-\\\\.]\\\\d{1,2}[\\\\/\\\\-\\\\.]\\\\d{2,4})|(\\\\d{2,4}[\\\\/\\\\-\\\\.]\\\\d{1,2}[\\\\/\\\\-\\\\.]\\\\d{1,2})'),\n",
       " Entity(text='123-45-6789', label='social security number', start_index=121, end_index=132, score=0.9993416666984558, type='custom', regex='[0-9]{3}-[0-9]{2}-[0-9]{4}'),\n",
       " Entity(text='John Doe', label='name', start_index=157, end_index=165, score=0.994924783706665, type='string', regex='.*'),\n",
       " Entity(text='15-11-2024', label='date', start_index=717, end_index=727, score=0.8285622596740723, type='date', regex='(\\\\d{1,2}[\\\\/\\\\-\\\\.]\\\\d{1,2}[\\\\/\\\\-\\\\.]\\\\d{2,4})|(\\\\d{2,4}[\\\\/\\\\-\\\\.]\\\\d{1,2}[\\\\/\\\\-\\\\.]\\\\d{1,2})')]"
      ]
     },
     "execution_count": 10,
     "metadata": {},
     "output_type": "execute_result"
    }
   ],
   "source": [
    "entities"
   ]
  },
  {
   "cell_type": "markdown",
   "metadata": {},
   "source": [
    "## Anonymize the original text"
   ]
  },
  {
   "cell_type": "markdown",
   "metadata": {},
   "source": [
    "The `anonipy` has implemented generators for different types of information, that can be used \n",
    "to generate replacements for the original text.\n",
    "\n",
    "More on generators can be found in the chapter [Generators](/documentation/notebooks/02-generators),\n",
    "while chapter [Strategies](/documentation/notebooks/03-strategies) provides strategies for anonymizing\n",
    "the original text."
   ]
  },
  {
   "cell_type": "markdown",
   "metadata": {},
   "source": [
    "### Prepare generators for generating replacements"
   ]
  },
  {
   "cell_type": "code",
   "execution_count": 11,
   "metadata": {},
   "outputs": [],
   "source": [
    "from anonipy.anonymize.generators import (\n",
    "    LLMLabelGenerator,\n",
    "    DateGenerator,\n",
    "    NumberGenerator,\n",
    ")"
   ]
  },
  {
   "cell_type": "code",
   "execution_count": 12,
   "metadata": {},
   "outputs": [
    {
     "name": "stderr",
     "output_type": "stream",
     "text": [
      "Loading checkpoint shards: 100%|██████████| 4/4 [00:21<00:00,  5.44s/it]\n"
     ]
    }
   ],
   "source": [
    "# initialize the generators\n",
    "llm_generator = LLMLabelGenerator()\n",
    "date_generator = DateGenerator()\n",
    "number_generator = NumberGenerator()"
   ]
  },
  {
   "cell_type": "code",
   "execution_count": 13,
   "metadata": {},
   "outputs": [],
   "source": [
    "# prepare the anonymization mapping\n",
    "def anonymization_mapping(text, entity):\n",
    "    if entity.type == \"string\":\n",
    "        return llm_generator.generate(entity, temperature=0.7)\n",
    "    if entity.label == \"date\":\n",
    "        return date_generator.generate(entity, output_gen=\"middle_of_the_month\")\n",
    "    if entity.label == \"date of birth\":\n",
    "        return date_generator.generate(entity, output_gen=\"middle_of_the_year\")\n",
    "    if entity.label == \"social security number\":\n",
    "        return number_generator.generate(entity)\n",
    "    return \"[REDACTED]\""
   ]
  },
  {
   "cell_type": "markdown",
   "metadata": {},
   "source": [
    "### Anonymize the original text"
   ]
  },
  {
   "cell_type": "code",
   "execution_count": 14,
   "metadata": {},
   "outputs": [],
   "source": [
    "from anonipy.anonymize.strategies import PseudonymizationStrategy"
   ]
  },
  {
   "cell_type": "code",
   "execution_count": 15,
   "metadata": {},
   "outputs": [],
   "source": [
    "# initialize the pseudonymization strategy\n",
    "pseudo_strategy = PseudonymizationStrategy(mapping=anonymization_mapping)"
   ]
  },
  {
   "cell_type": "code",
   "execution_count": 16,
   "metadata": {},
   "outputs": [],
   "source": [
    "# anonymize the original text\n",
    "anonymized_text, replacements = pseudo_strategy.anonymize(original_text, entities)"
   ]
  },
  {
   "cell_type": "markdown",
   "metadata": {},
   "source": [
    "The anonymized text is:"
   ]
  },
  {
   "cell_type": "code",
   "execution_count": 17,
   "metadata": {},
   "outputs": [
    {
     "name": "stdout",
     "output_type": "stream",
     "text": [
      "Medical Record\n",
      "\n",
      "Patient Name: Ethan Lane\n",
      "Date of Birth: 01-07-1985\n",
      "Date of Examination: 15-05-2024\n",
      "Social Security Number: 588-85-9388\n",
      "\n",
      "Examination Procedure:\n",
      "Ethan Lane underwent a routine physical examination. The procedure included measuring vital signs (blood pressure, heart rate, temperature), a comprehensive blood panel, and a cardiovascular stress test. The patient also reported occasional headaches and dizziness, prompting a neurological assessment and an MRI scan to rule out any underlying issues.\n",
      "\n",
      "Medication Prescribed:\n",
      "\n",
      "Ibuprofen 200 mg: Take one tablet every 6-8 hours as needed for headache and pain relief.\n",
      "Lisinopril 10 mg: Take one tablet daily to manage high blood pressure.\n",
      "Next Examination Date:\n",
      "15-11-2024\n",
      "\n"
     ]
    }
   ],
   "source": [
    "print(anonymized_text)"
   ]
  },
  {
   "cell_type": "markdown",
   "metadata": {},
   "source": [
    "And the associated replacements are:"
   ]
  },
  {
   "cell_type": "code",
   "execution_count": 18,
   "metadata": {},
   "outputs": [
    {
     "data": {
      "text/plain": [
       "[{'original_text': '15-11-2024',\n",
       "  'label': 'date',\n",
       "  'start_index': 717,\n",
       "  'end_index': 727,\n",
       "  'anonymized_text': '15-11-2024'},\n",
       " {'original_text': 'John Doe',\n",
       "  'label': 'name',\n",
       "  'start_index': 157,\n",
       "  'end_index': 165,\n",
       "  'anonymized_text': 'Ethan Lane'},\n",
       " {'original_text': '123-45-6789',\n",
       "  'label': 'social security number',\n",
       "  'start_index': 121,\n",
       "  'end_index': 132,\n",
       "  'anonymized_text': '588-85-9388'},\n",
       " {'original_text': '20-05-2024',\n",
       "  'label': 'date',\n",
       "  'start_index': 86,\n",
       "  'end_index': 96,\n",
       "  'anonymized_text': '15-05-2024'},\n",
       " {'original_text': '15-01-1985',\n",
       "  'label': 'date of birth',\n",
       "  'start_index': 54,\n",
       "  'end_index': 64,\n",
       "  'anonymized_text': '01-07-1985'},\n",
       " {'original_text': 'John Doe',\n",
       "  'label': 'name',\n",
       "  'start_index': 30,\n",
       "  'end_index': 38,\n",
       "  'anonymized_text': 'Ethan Lane'}]"
      ]
     },
     "execution_count": 18,
     "metadata": {},
     "output_type": "execute_result"
    }
   ],
   "source": [
    "replacements"
   ]
  },
  {
   "cell_type": "markdown",
   "metadata": {},
   "source": [
    "### Fixing the anonymized text"
   ]
  },
  {
   "cell_type": "markdown",
   "metadata": {},
   "source": [
    "In case the anonymized text is not suitable, we can fix it by using the `anonymize` function found in the `anonipy.anonymize` module.\n",
    "To do this, let us define a new set of replacements. \n",
    "\n",
    "We can edit existing replacements by changing the `anonymized_text` value, remove the ones that are not suitable,\n",
    "and add missing ones.\n",
    "\n",
    "Note that the new set does not require the `original_text` and `label` values."
   ]
  },
  {
   "cell_type": "code",
   "execution_count": 19,
   "metadata": {},
   "outputs": [],
   "source": [
    "new_replacements = [\n",
    "    {\n",
    "        \"start_index\": 30,\n",
    "        \"end_index\": 38,\n",
    "        \"anonymized_text\": \"Mark Strong\",\n",
    "    },\n",
    "    {\n",
    "        \"original_text\": \"20-05-2024\",\n",
    "        \"label\": \"date\",\n",
    "        \"start_index\": 86,\n",
    "        \"end_index\": 96,\n",
    "        \"anonymized_text\": \"18-05-2024\",\n",
    "    },\n",
    "    {\n",
    "        \"original_text\": \"123-45-6789\",\n",
    "        \"label\": \"social security number\",\n",
    "        \"start_index\": 121,\n",
    "        \"end_index\": 132,\n",
    "        \"anonymized_text\": \"119-88-7014\",\n",
    "    },\n",
    "    {\n",
    "        \"original_text\": \"John Doe\",\n",
    "        \"label\": \"name\",\n",
    "        \"start_index\": 157,\n",
    "        \"end_index\": 165,\n",
    "        \"anonymized_text\": \"Mark Strong\",\n",
    "    },\n",
    "]"
   ]
  },
  {
   "cell_type": "markdown",
   "metadata": {},
   "source": [
    "Now, let us anonymize the original text using the new replacements."
   ]
  },
  {
   "cell_type": "code",
   "execution_count": 20,
   "metadata": {},
   "outputs": [],
   "source": [
    "from anonipy.anonymize import anonymize"
   ]
  },
  {
   "cell_type": "code",
   "execution_count": 21,
   "metadata": {},
   "outputs": [],
   "source": [
    "# anonymize the original text using the new replacements\n",
    "anonymized_text, replacements = anonymize(original_text, new_replacements)"
   ]
  },
  {
   "cell_type": "code",
   "execution_count": 22,
   "metadata": {},
   "outputs": [
    {
     "name": "stdout",
     "output_type": "stream",
     "text": [
      "Medical Record\n",
      "\n",
      "Patient Name: Mark Strong\n",
      "Date of Birth: 15-01-1985\n",
      "Date of Examination: 18-05-2024\n",
      "Social Security Number: 119-88-7014\n",
      "\n",
      "Examination Procedure:\n",
      "Mark Strong underwent a routine physical examination. The procedure included measuring vital signs (blood pressure, heart rate, temperature), a comprehensive blood panel, and a cardiovascular stress test. The patient also reported occasional headaches and dizziness, prompting a neurological assessment and an MRI scan to rule out any underlying issues.\n",
      "\n",
      "Medication Prescribed:\n",
      "\n",
      "Ibuprofen 200 mg: Take one tablet every 6-8 hours as needed for headache and pain relief.\n",
      "Lisinopril 10 mg: Take one tablet daily to manage high blood pressure.\n",
      "Next Examination Date:\n",
      "15-11-2024\n",
      "\n"
     ]
    }
   ],
   "source": [
    "print(anonymized_text)"
   ]
  },
  {
   "cell_type": "code",
   "execution_count": null,
   "metadata": {},
   "outputs": [],
   "source": []
  }
 ],
 "metadata": {
  "kernelspec": {
   "display_name": "venv",
   "language": "python",
   "name": "python3"
  },
  "language_info": {
   "codemirror_mode": {
    "name": "ipython",
    "version": 3
   },
   "file_extension": ".py",
   "mimetype": "text/x-python",
   "name": "python",
   "nbconvert_exporter": "python",
   "pygments_lexer": "ipython3",
   "version": "3.10.12"
  }
 },
 "nbformat": 4,
 "nbformat_minor": 2
}
