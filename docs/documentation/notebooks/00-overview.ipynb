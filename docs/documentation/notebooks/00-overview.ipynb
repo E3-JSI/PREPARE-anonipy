{
 "cells": [
  {
   "cell_type": "markdown",
   "metadata": {},
   "source": [
    "# Overview\n",
    "\n",
    "This notebook provides an overview of the package and its functionality."
   ]
  },
  {
   "cell_type": "code",
   "execution_count": 1,
   "metadata": {},
   "outputs": [],
   "source": [
    "# used to hide warnings\n",
    "import warnings\n",
    "\n",
    "warnings.filterwarnings(\"ignore\")"
   ]
  },
  {
   "cell_type": "markdown",
   "metadata": {},
   "source": [
    "Let us first define the text, from which we will showcase the package's functionality."
   ]
  },
  {
   "cell_type": "code",
   "execution_count": 2,
   "metadata": {},
   "outputs": [],
   "source": [
    "original_text = \"\"\"\\\n",
    "Medical Record\n",
    "\n",
    "Patient Name: John Doe\n",
    "Date of Birth: 15-01-1985\n",
    "Date of Examination: 20-05-2024\n",
    "Social Security Number: 123-45-6789\n",
    "\n",
    "Examination Procedure:\n",
    "John Doe underwent a routine physical examination. The procedure included measuring vital signs (blood pressure, heart rate, temperature), a comprehensive blood panel, and a cardiovascular stress test. The patient also reported occasional headaches and dizziness, prompting a neurological assessment and an MRI scan to rule out any underlying issues.\n",
    "\n",
    "Medication Prescribed:\n",
    "\n",
    "Ibuprofen 200 mg: Take one tablet every 6-8 hours as needed for headache and pain relief.\n",
    "Lisinopril 10 mg: Take one tablet daily to manage high blood pressure.\n",
    "Next Examination Date:\n",
    "15-11-2024\n",
    "\"\"\""
   ]
  },
  {
   "cell_type": "markdown",
   "metadata": {},
   "source": [
    "## Extract personal information from text"
   ]
  },
  {
   "cell_type": "markdown",
   "metadata": {},
   "source": [
    "The `anonipy` has implemented entity extraction components, that can be used to extract personal information from text.\n",
    "\n",
    "More can be found in the chapter [Extractors](/documentation/notebooks/01-extractors)."
   ]
  },
  {
   "cell_type": "markdown",
   "metadata": {},
   "source": [
    "### Language detector"
   ]
  },
  {
   "cell_type": "code",
   "execution_count": 3,
   "metadata": {},
   "outputs": [],
   "source": [
    "from anonipy.utils.language_detector import LanguageDetector\n",
    "lang_detector = LanguageDetector()"
   ]
  },
  {
   "cell_type": "code",
   "execution_count": 4,
   "metadata": {},
   "outputs": [
    {
     "data": {
      "text/plain": [
       "('en', 'English')"
      ]
     },
     "execution_count": 4,
     "metadata": {},
     "output_type": "execute_result"
    }
   ],
   "source": [
    "# identify the language of the original text\n",
    "language = lang_detector(original_text)\n",
    "language"
   ]
  },
  {
   "cell_type": "markdown",
   "metadata": {},
   "source": [
    "### Extract personal information"
   ]
  },
  {
   "cell_type": "code",
   "execution_count": 5,
   "metadata": {},
   "outputs": [],
   "source": [
    "from anonipy.anonymize.extractors import EntityExtractor"
   ]
  },
  {
   "cell_type": "code",
   "execution_count": 6,
   "metadata": {},
   "outputs": [],
   "source": [
    "# define the labels to be extracted and anonymized\n",
    "labels = [\n",
    "    {\"label\": \"name\", \"type\": \"string\"},\n",
    "    {\"label\": \"social security number\", \"type\": \"custom\"},\n",
    "    {\"label\": \"date of birth\", \"type\": \"date\"},\n",
    "    {\"label\": \"date\", \"type\": \"date\"},\n",
    "]"
   ]
  },
  {
   "cell_type": "code",
   "execution_count": 7,
   "metadata": {},
   "outputs": [],
   "source": [
    "# language taken from the language detector\n",
    "entity_extractor = EntityExtractor(labels, lang=language, score_th=0.5)"
   ]
  },
  {
   "cell_type": "code",
   "execution_count": 8,
   "metadata": {},
   "outputs": [],
   "source": [
    "# extract the entities from the original text\n",
    "doc, entities = entity_extractor(original_text)"
   ]
  },
  {
   "cell_type": "code",
   "execution_count": 9,
   "metadata": {},
   "outputs": [
    {
     "data": {
      "text/html": [
       "<span class=\"tex2jax_ignore\"><div class=\"entities\" style=\"line-height: 2.5; direction: ltr\">Medical Record<br><br>Patient Name: \n",
       "<mark class=\"entity\" style=\"background: #5C7AEA; padding: 0.45em 0.6em; margin: 0 0.25em; line-height: 1; border-radius: 0.35em;\">\n",
       "    John Doe\n",
       "    <span style=\"font-size: 0.8em; font-weight: bold; line-height: 1; border-radius: 0.35em; vertical-align: middle; margin-left: 0.5rem\">name</span>\n",
       "</mark>\n",
       "<br>Date of Birth: \n",
       "<mark class=\"entity\" style=\"background: #5C7AEA; padding: 0.45em 0.6em; margin: 0 0.25em; line-height: 1; border-radius: 0.35em;\">\n",
       "    15-01-1985\n",
       "    <span style=\"font-size: 0.8em; font-weight: bold; line-height: 1; border-radius: 0.35em; vertical-align: middle; margin-left: 0.5rem\">date of birth</span>\n",
       "</mark>\n",
       "<br>Date of Examination: \n",
       "<mark class=\"entity\" style=\"background: #5C7AEA; padding: 0.45em 0.6em; margin: 0 0.25em; line-height: 1; border-radius: 0.35em;\">\n",
       "    20-05-2024\n",
       "    <span style=\"font-size: 0.8em; font-weight: bold; line-height: 1; border-radius: 0.35em; vertical-align: middle; margin-left: 0.5rem\">date</span>\n",
       "</mark>\n",
       "<br>Social Security Number: \n",
       "<mark class=\"entity\" style=\"background: #5C7AEA; padding: 0.45em 0.6em; margin: 0 0.25em; line-height: 1; border-radius: 0.35em;\">\n",
       "    123-45-6789\n",
       "    <span style=\"font-size: 0.8em; font-weight: bold; line-height: 1; border-radius: 0.35em; vertical-align: middle; margin-left: 0.5rem\">social security number</span>\n",
       "</mark>\n",
       "<br><br>Examination Procedure:<br>\n",
       "<mark class=\"entity\" style=\"background: #5C7AEA; padding: 0.45em 0.6em; margin: 0 0.25em; line-height: 1; border-radius: 0.35em;\">\n",
       "    John Doe\n",
       "    <span style=\"font-size: 0.8em; font-weight: bold; line-height: 1; border-radius: 0.35em; vertical-align: middle; margin-left: 0.5rem\">name</span>\n",
       "</mark>\n",
       " underwent a routine physical examination. The procedure included measuring vital signs (blood pressure, heart rate, temperature), a comprehensive blood panel, and a cardiovascular stress test. The patient also reported occasional headaches and dizziness, prompting a neurological assessment and an MRI scan to rule out any underlying issues.<br><br>Medication Prescribed:<br><br>Ibuprofen 200 mg: Take one tablet every 6-8 hours as needed for headache and pain relief.<br>Lisinopril 10 mg: Take one tablet daily to manage high blood pressure.<br>Next Examination Date:<br>\n",
       "<mark class=\"entity\" style=\"background: #5C7AEA; padding: 0.45em 0.6em; margin: 0 0.25em; line-height: 1; border-radius: 0.35em;\">\n",
       "    15-11-2024\n",
       "    <span style=\"font-size: 0.8em; font-weight: bold; line-height: 1; border-radius: 0.35em; vertical-align: middle; margin-left: 0.5rem\">date</span>\n",
       "</mark>\n",
       "<br></div></span>"
      ],
      "text/plain": [
       "<IPython.core.display.HTML object>"
      ]
     },
     "metadata": {},
     "output_type": "display_data"
    }
   ],
   "source": [
    "# display the entities in the original text\n",
    "entity_extractor.display(doc)"
   ]
  },
  {
   "cell_type": "markdown",
   "metadata": {},
   "source": [
    "## Anonymize the original text"
   ]
  },
  {
   "cell_type": "markdown",
   "metadata": {},
   "source": [
    "The `anonipy` has implemented generators for different types of information, that can be used \n",
    "to generate replacements for the original text.\n",
    "\n",
    "More on generators can be found in the chapter [Generators](/documentation/notebooks/02-generators),\n",
    "while chapter [Strategies](/documentation/notebooks/03-strategies) provides strategies for anonymizing\n",
    "the original text."
   ]
  },
  {
   "cell_type": "markdown",
   "metadata": {},
   "source": [
    "### Prepare generators for generating replacements"
   ]
  },
  {
   "cell_type": "code",
   "execution_count": 10,
   "metadata": {},
   "outputs": [],
   "source": [
    "from anonipy.anonymize.generators import (\n",
    "    LLMLabelGenerator,\n",
    "    DateGenerator,\n",
    "    NumberGenerator,\n",
    ")"
   ]
  },
  {
   "cell_type": "code",
   "execution_count": 11,
   "metadata": {},
   "outputs": [
    {
     "data": {
      "application/vnd.jupyter.widget-view+json": {
       "model_id": "9c9a40553ab34d05963638984cfde6ed",
       "version_major": 2,
       "version_minor": 0
      },
      "text/plain": [
       "Loading checkpoint shards:   0%|          | 0/4 [00:00<?, ?it/s]"
      ]
     },
     "metadata": {},
     "output_type": "display_data"
    }
   ],
   "source": [
    "# initialize the generators\n",
    "llm_generator = LLMLabelGenerator()\n",
    "date_generator = DateGenerator()\n",
    "number_generator = NumberGenerator()"
   ]
  },
  {
   "cell_type": "code",
   "execution_count": 12,
   "metadata": {},
   "outputs": [],
   "source": [
    "# prepare the anonymization mapping\n",
    "def anonymization_mapping(text, entity):\n",
    "    if entity.type == \"string\":\n",
    "        return llm_generator.generate(entity, temperature=0.7)\n",
    "    if entity.label == \"date\":\n",
    "        return date_generator.generate(entity, output_gen=\"middle_of_the_month\")\n",
    "    if entity.label == \"date of birth\":\n",
    "        return date_generator.generate(entity, output_gen=\"middle_of_the_year\")\n",
    "    if entity.label == \"social security number\":\n",
    "        return number_generator.generate(entity)\n",
    "    return \"[REDACTED]\""
   ]
  },
  {
   "cell_type": "markdown",
   "metadata": {},
   "source": [
    "### Anonymize the original text"
   ]
  },
  {
   "cell_type": "code",
   "execution_count": 13,
   "metadata": {},
   "outputs": [],
   "source": [
    "from anonipy.anonymize.strategies import PseudonymizationStrategy"
   ]
  },
  {
   "cell_type": "code",
   "execution_count": 14,
   "metadata": {},
   "outputs": [],
   "source": [
    "# initialize the pseudonymization strategy\n",
    "pseudo_strategy = PseudonymizationStrategy(mapping=anonymization_mapping)"
   ]
  },
  {
   "cell_type": "code",
   "execution_count": 15,
   "metadata": {},
   "outputs": [],
   "source": [
    "# anonymize the original text\n",
    "anonymized_text, replacements = pseudo_strategy.anonymize(original_text, entities)"
   ]
  },
  {
   "cell_type": "markdown",
   "metadata": {},
   "source": [
    "The anonymized text is:"
   ]
  },
  {
   "cell_type": "code",
   "execution_count": 16,
   "metadata": {},
   "outputs": [
    {
     "name": "stdout",
     "output_type": "stream",
     "text": [
      "Medical Record\n",
      "\n",
      "Patient Name: Ethan Thompson\n",
      "Date of Birth: 01-07-1985\n",
      "Date of Examination: 15-05-2024\n",
      "Social Security Number: 867-38-6549\n",
      "\n",
      "Examination Procedure:\n",
      "Ethan Thompson underwent a routine physical examination. The procedure included measuring vital signs (blood pressure, heart rate, temperature), a comprehensive blood panel, and a cardiovascular stress test. The patient also reported occasional headaches and dizziness, prompting a neurological assessment and an MRI scan to rule out any underlying issues.\n",
      "\n",
      "Medication Prescribed:\n",
      "\n",
      "Ibuprofen 200 mg: Take one tablet every 6-8 hours as needed for headache and pain relief.\n",
      "Lisinopril 10 mg: Take one tablet daily to manage high blood pressure.\n",
      "Next Examination Date:\n",
      "15-11-2024\n",
      "\n"
     ]
    }
   ],
   "source": [
    "print(anonymized_text)"
   ]
  },
  {
   "cell_type": "markdown",
   "metadata": {},
   "source": [
    "And the associated replacements are:"
   ]
  },
  {
   "cell_type": "code",
   "execution_count": 17,
   "metadata": {},
   "outputs": [
    {
     "data": {
      "text/plain": [
       "[{'original_text': 'John Doe',\n",
       "  'start_index': 30,\n",
       "  'end_index': 38,\n",
       "  'anonymized_text': 'Ethan Thompson'},\n",
       " {'original_text': '15-01-1985',\n",
       "  'start_index': 54,\n",
       "  'end_index': 64,\n",
       "  'anonymized_text': '01-07-1985'},\n",
       " {'original_text': '20-05-2024',\n",
       "  'start_index': 86,\n",
       "  'end_index': 96,\n",
       "  'anonymized_text': '15-05-2024'},\n",
       " {'original_text': '123-45-6789',\n",
       "  'start_index': 121,\n",
       "  'end_index': 132,\n",
       "  'anonymized_text': '867-38-6549'},\n",
       " {'original_text': 'John Doe',\n",
       "  'start_index': 157,\n",
       "  'end_index': 165,\n",
       "  'anonymized_text': 'Ethan Thompson'},\n",
       " {'original_text': '15-11-2024',\n",
       "  'start_index': 717,\n",
       "  'end_index': 727,\n",
       "  'anonymized_text': '15-11-2024'}]"
      ]
     },
     "execution_count": 17,
     "metadata": {},
     "output_type": "execute_result"
    }
   ],
   "source": [
    "replacements"
   ]
  }
 ],
 "metadata": {
  "kernelspec": {
   "display_name": "venv",
   "language": "python",
   "name": "python3"
  },
  "language_info": {
   "codemirror_mode": {
    "name": "ipython",
    "version": 3
   },
   "file_extension": ".py",
   "mimetype": "text/x-python",
   "name": "python",
   "nbconvert_exporter": "python",
   "pygments_lexer": "ipython3",
   "version": "3.10.12"
  }
 },
 "nbformat": 4,
 "nbformat_minor": 2
}
